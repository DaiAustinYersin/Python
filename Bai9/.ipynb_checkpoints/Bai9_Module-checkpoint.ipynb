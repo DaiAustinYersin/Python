{
 "cells": [
  {
   "cell_type": "code",
   "execution_count": 2,
   "metadata": {},
   "outputs": [],
   "source": [
    "import sys"
   ]
  },
  {
   "cell_type": "code",
   "execution_count": 3,
   "metadata": {},
   "outputs": [
    {
     "data": {
      "text/plain": [
       "['C:\\\\Users\\\\Admin\\\\Documents\\\\Jupyter Notebook\\\\Bai9',\n",
       " 'C:\\\\Users\\\\Admin\\\\anaconda3\\\\python38.zip',\n",
       " 'C:\\\\Users\\\\Admin\\\\anaconda3\\\\DLLs',\n",
       " 'C:\\\\Users\\\\Admin\\\\anaconda3\\\\lib',\n",
       " 'C:\\\\Users\\\\Admin\\\\anaconda3',\n",
       " '',\n",
       " 'C:\\\\Users\\\\Admin\\\\anaconda3\\\\lib\\\\site-packages',\n",
       " 'C:\\\\Users\\\\Admin\\\\anaconda3\\\\lib\\\\site-packages\\\\win32',\n",
       " 'C:\\\\Users\\\\Admin\\\\anaconda3\\\\lib\\\\site-packages\\\\win32\\\\lib',\n",
       " 'C:\\\\Users\\\\Admin\\\\anaconda3\\\\lib\\\\site-packages\\\\Pythonwin',\n",
       " 'C:\\\\Users\\\\Admin\\\\anaconda3\\\\lib\\\\site-packages\\\\IPython\\\\extensions',\n",
       " 'C:\\\\Users\\\\Admin\\\\.ipython']"
      ]
     },
     "execution_count": 3,
     "metadata": {},
     "output_type": "execute_result"
    }
   ],
   "source": [
    "sys.path"
   ]
  },
  {
   "cell_type": "code",
   "execution_count": 4,
   "metadata": {},
   "outputs": [],
   "source": [
    "sys.path.append(\"../\")"
   ]
  },
  {
   "cell_type": "code",
   "execution_count": 5,
   "metadata": {
    "scrolled": true
   },
   "outputs": [
    {
     "data": {
      "text/plain": [
       "['C:\\\\Users\\\\Admin\\\\Documents\\\\Jupyter Notebook\\\\Bai9',\n",
       " 'C:\\\\Users\\\\Admin\\\\anaconda3\\\\python38.zip',\n",
       " 'C:\\\\Users\\\\Admin\\\\anaconda3\\\\DLLs',\n",
       " 'C:\\\\Users\\\\Admin\\\\anaconda3\\\\lib',\n",
       " 'C:\\\\Users\\\\Admin\\\\anaconda3',\n",
       " '',\n",
       " 'C:\\\\Users\\\\Admin\\\\anaconda3\\\\lib\\\\site-packages',\n",
       " 'C:\\\\Users\\\\Admin\\\\anaconda3\\\\lib\\\\site-packages\\\\win32',\n",
       " 'C:\\\\Users\\\\Admin\\\\anaconda3\\\\lib\\\\site-packages\\\\win32\\\\lib',\n",
       " 'C:\\\\Users\\\\Admin\\\\anaconda3\\\\lib\\\\site-packages\\\\Pythonwin',\n",
       " 'C:\\\\Users\\\\Admin\\\\anaconda3\\\\lib\\\\site-packages\\\\IPython\\\\extensions',\n",
       " 'C:\\\\Users\\\\Admin\\\\.ipython',\n",
       " '../']"
      ]
     },
     "execution_count": 5,
     "metadata": {},
     "output_type": "execute_result"
    }
   ],
   "source": [
    "sys.path"
   ]
  },
  {
   "cell_type": "code",
   "execution_count": 1,
   "metadata": {},
   "outputs": [
    {
     "ename": "ModuleNotFoundError",
     "evalue": "No module named 'module'",
     "output_type": "error",
     "traceback": [
      "\u001b[1;31m---------------------------------------------------------------------------\u001b[0m",
      "\u001b[1;31mModuleNotFoundError\u001b[0m                       Traceback (most recent call last)",
      "\u001b[1;32m<ipython-input-1-a24f1203db5a>\u001b[0m in \u001b[0;36m<module>\u001b[1;34m\u001b[0m\n\u001b[1;32m----> 1\u001b[1;33m \u001b[1;32mfrom\u001b[0m \u001b[0mmodule\u001b[0m\u001b[1;33m.\u001b[0m\u001b[0mmyModule\u001b[0m \u001b[1;32mimport\u001b[0m \u001b[1;33m*\u001b[0m\u001b[1;33m\u001b[0m\u001b[1;33m\u001b[0m\u001b[0m\n\u001b[0m",
      "\u001b[1;31mModuleNotFoundError\u001b[0m: No module named 'module'"
     ]
    }
   ],
   "source": [
    "from module.myModule import *"
   ]
  },
  {
   "cell_type": "code",
   "execution_count": null,
   "metadata": {
    "scrolled": true
   },
   "outputs": [],
   "source": [
    "kq = tong(13,6)\n",
    "print(kq)"
   ]
  },
  {
   "cell_type": "code",
   "execution_count": null,
   "metadata": {},
   "outputs": [],
   "source": [
    "print(hieu(13,6))"
   ]
  },
  {
   "cell_type": "code",
   "execution_count": null,
   "metadata": {},
   "outputs": [],
   "source": [
    "# Bài tập 9.1: Module 1\n",
    "# Tổ chức và sử dụng module theo yêu cầu:\n",
    "# - Học viên đưa các phương thức trong bài 5 vào một module có tên là ham_bai_5.py.\n",
    "# - Import module ham_bai_5 vào các bài tập của bài 5.\n",
    "from Bai9.ham_bai_5 import *\n",
    "\n",
    "# Bài 5 - Kiểm tra số nguyên tố\n",
    "n = 997\n",
    "if(isPrime(n)):\n",
    "    print(n,\"là số nguyên tố\")\n",
    "else:\n",
    "    print(n,\"không là số nguyên tố\")\n",
    "\n",
    "# Bài 5 - In dãy Fibonacci\n",
    "for i in range(1,10):\n",
    "    print(fib(i),end=\" \")\n",
    "\n",
    "# Bài 5 - Tính giá trị biểu thức S\n",
    "print(\"\\nS =\", tinhS(1,2))\n",
    "\n",
    "# Bài 5 - Tính giá trị biểu thức A\n",
    "print(\"A =\", tinhA(2,3))\n",
    "\n",
    "# Hướng dẫn:\n",
    "# - Tạo package Bai9\n",
    "# - Trong pakage Bai9, tạo module có tên là ham_bai_5.py\n",
    "# - Import module ham_bai_5 vào các bài tập của bài 5 => gọi hàm => xem kết quả"
   ]
  },
  {
   "cell_type": "code",
   "execution_count": null,
   "metadata": {},
   "outputs": [],
   "source": [
    "# Bài tập 9.2: Module 2\n",
    "# Tổ chức và sử dụng module theo yêu cầu sau:\n",
    "# - Học viên đưa các phương thức dành cho List số trong bài 7 vào một module có tên là ham_list_7.py\n",
    "# - Gọi sử dụng các phương thức này vào các bài tập list số của bài 7\n",
    "from Bai9.ham_list_7 import *\n",
    "\n",
    "# Tạo list số và in ra list các số vừa nhập\n",
    "myList = [2,5,1,6,8,5,4,9,-2,-4,-5,-2,-9,-8,3,11]\n",
    "in_list(myList)\n",
    "\n",
    "# Tính tổng các phần tử trong list\n",
    "print(\"Tổng các phần tử trong list:\",sum_list(myList))\n",
    "\n",
    "# Tìm và in ra tất cả các số nguyên tố có trong list\n",
    "print(\"Số nguyên tố có trong list:\",set(prime_list(myList)))\n",
    "\n",
    "# Tính trung bình cộng của các phần tử âm trong list\n",
    "print(\"Trung bình cộng của các phần tử âm trong list:\",SumAvg_Negative_list(myList))\n",
    "\n",
    "# Tính trung bình cộng của các phần tử dương trong list\n",
    "print(\"Trung bình cộng của các phần tử dương trong list:\",SumAvg_Positive_list(myList))\n",
    "\n",
    "# Tìm giá trị chẵn lớn nhất trong list \n",
    "print(\"Giá trị chẵn lớn nhất trong list:\",max_even_list(myList))\n",
    "\n",
    "# Tìm giá trị lẻ nhỏ nhất trong list\n",
    "print(\"Giá trị lẻ nhỏ nhất trong list:\",min_odd_list(myList))\n",
    "\n",
    "# Hướng dẫn:\n",
    "# - Tạo package Bai9,\n",
    "# - Trong package Bai9, tạo module có tên là ham_list_7.py.\n",
    "# - Import module là ham_list_7 vào các bài tập list số của bài 7 => gọi hàm => xem kết quả\n",
    "\n",
    "# Học viên kết hợp tương tự cho các bài tập về Tuple, Dictionary, Set."
   ]
  },
  {
   "cell_type": "code",
   "execution_count": null,
   "metadata": {},
   "outputs": [],
   "source": [
    "import sys"
   ]
  },
  {
   "cell_type": "code",
   "execution_count": null,
   "metadata": {},
   "outputs": [],
   "source": [
    "sys.path"
   ]
  }
 ],
 "metadata": {
  "kernelspec": {
   "display_name": "Python 3",
   "language": "python",
   "name": "python3"
  },
  "language_info": {
   "codemirror_mode": {
    "name": "ipython",
    "version": 3
   },
   "file_extension": ".py",
   "mimetype": "text/x-python",
   "name": "python",
   "nbconvert_exporter": "python",
   "pygments_lexer": "ipython3",
   "version": "3.8.3"
  }
 },
 "nbformat": 4,
 "nbformat_minor": 4
}
