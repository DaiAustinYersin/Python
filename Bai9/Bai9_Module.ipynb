{
 "cells": [
  {
   "cell_type": "code",
   "execution_count": 2,
   "metadata": {},
   "outputs": [],
   "source": [
    "import sys"
   ]
  },
  {
   "cell_type": "code",
   "execution_count": 3,
   "metadata": {
    "scrolled": true
   },
   "outputs": [
    {
     "data": {
      "text/plain": [
       "['C:\\\\Users\\\\Admin\\\\Documents\\\\Jupyter Notebook\\\\Bai9',\n",
       " 'C:\\\\Users\\\\Admin\\\\anaconda3\\\\python38.zip',\n",
       " 'C:\\\\Users\\\\Admin\\\\anaconda3\\\\DLLs',\n",
       " 'C:\\\\Users\\\\Admin\\\\anaconda3\\\\lib',\n",
       " 'C:\\\\Users\\\\Admin\\\\anaconda3',\n",
       " '',\n",
       " 'C:\\\\Users\\\\Admin\\\\anaconda3\\\\lib\\\\site-packages',\n",
       " 'C:\\\\Users\\\\Admin\\\\anaconda3\\\\lib\\\\site-packages\\\\win32',\n",
       " 'C:\\\\Users\\\\Admin\\\\anaconda3\\\\lib\\\\site-packages\\\\win32\\\\lib',\n",
       " 'C:\\\\Users\\\\Admin\\\\anaconda3\\\\lib\\\\site-packages\\\\Pythonwin',\n",
       " 'C:\\\\Users\\\\Admin\\\\anaconda3\\\\lib\\\\site-packages\\\\IPython\\\\extensions',\n",
       " 'C:\\\\Users\\\\Admin\\\\.ipython']"
      ]
     },
     "execution_count": 3,
     "metadata": {},
     "output_type": "execute_result"
    }
   ],
   "source": [
    "sys.path"
   ]
  },
  {
   "cell_type": "code",
   "execution_count": 4,
   "metadata": {},
   "outputs": [],
   "source": [
    "sys.path.append(\"../\")"
   ]
  },
  {
   "cell_type": "code",
   "execution_count": 6,
   "metadata": {},
   "outputs": [],
   "source": [
    "from module.myModule import *"
   ]
  },
  {
   "cell_type": "code",
   "execution_count": 7,
   "metadata": {
    "scrolled": true
   },
   "outputs": [
    {
     "name": "stdout",
     "output_type": "stream",
     "text": [
      "19\n"
     ]
    }
   ],
   "source": [
    "kq = tong(13,6)\n",
    "print(kq)"
   ]
  },
  {
   "cell_type": "code",
   "execution_count": 8,
   "metadata": {},
   "outputs": [
    {
     "name": "stdout",
     "output_type": "stream",
     "text": [
      "7\n"
     ]
    }
   ],
   "source": [
    "print(hieu(13,6))"
   ]
  },
  {
   "cell_type": "code",
   "execution_count": 9,
   "metadata": {},
   "outputs": [
    {
     "name": "stdout",
     "output_type": "stream",
     "text": [
      "997 là số nguyên tố\n",
      "0 1 1 2 3 5 8 13 21 \n",
      "S = 4\n",
      "A = 397\n"
     ]
    }
   ],
   "source": [
    "# Bài tập 9.1: Module 1\n",
    "# Tổ chức và sử dụng module theo yêu cầu:\n",
    "# - Học viên đưa các phương thức trong bài 5 vào một module có tên là ham_bai_5.py.\n",
    "# - Import module ham_bai_5 vào các bài tập của bài 5.\n",
    "from Bai9.ham_bai_5 import *\n",
    "\n",
    "# Bài 5 - Kiểm tra số nguyên tố\n",
    "n = 997\n",
    "if(isPrime(n)):\n",
    "    print(n,\"là số nguyên tố\")\n",
    "else:\n",
    "    print(n,\"không là số nguyên tố\")\n",
    "\n",
    "# Bài 5 - In dãy Fibonacci\n",
    "for i in range(1,10):\n",
    "    print(fib(i),end=\" \")\n",
    "\n",
    "# Bài 5 - Tính giá trị biểu thức S\n",
    "print(\"\\nS =\", tinhS(1,2))\n",
    "\n",
    "# Bài 5 - Tính giá trị biểu thức A\n",
    "print(\"A =\", tinhA(2,3))\n",
    "\n",
    "# Hướng dẫn:\n",
    "# - Tạo package Bai9\n",
    "# - Trong pakage Bai9, tạo module có tên là ham_bai_5.py\n",
    "# - Import module ham_bai_5 vào các bài tập của bài 5 => gọi hàm => xem kết quả"
   ]
  },
  {
   "cell_type": "code",
   "execution_count": 10,
   "metadata": {},
   "outputs": [
    {
     "name": "stdout",
     "output_type": "stream",
     "text": [
      "[2, 5, 1, 6, 8, 5, 4, 9, -2, -4, -5, -2, -9, -8, 3, 11]\n",
      "Tổng các phần tử trong list: 24\n",
      "Số nguyên tố có trong list: {11, 9, 3, 5}\n",
      "Trung bình cộng của các phần tử âm trong list: -5.0\n",
      "Trung bình cộng của các phần tử dương trong list: 5.4\n",
      "Giá trị chẵn lớn nhất trong list: 8\n",
      "Giá trị lẻ nhỏ nhất trong list: -9\n"
     ]
    }
   ],
   "source": [
    "# Bài tập 9.2: Module 2\n",
    "# Tổ chức và sử dụng module theo yêu cầu sau:\n",
    "# - Học viên đưa các phương thức dành cho List số trong bài 7 vào một module có tên là ham_list_7.py\n",
    "# - Gọi sử dụng các phương thức này vào các bài tập list số của bài 7\n",
    "from Bai9.ham_list_7 import *\n",
    "\n",
    "# Tạo list số và in ra list các số vừa nhập\n",
    "myList = [2,5,1,6,8,5,4,9,-2,-4,-5,-2,-9,-8,3,11]\n",
    "in_list(myList)\n",
    "\n",
    "# Tính tổng các phần tử trong list\n",
    "print(\"Tổng các phần tử trong list:\",sum_list(myList))\n",
    "\n",
    "# Tìm và in ra tất cả các số nguyên tố có trong list\n",
    "print(\"Số nguyên tố có trong list:\",set(prime_list(myList)))\n",
    "\n",
    "# Tính trung bình cộng của các phần tử âm trong list\n",
    "print(\"Trung bình cộng của các phần tử âm trong list:\",SumAvg_Negative_list(myList))\n",
    "\n",
    "# Tính trung bình cộng của các phần tử dương trong list\n",
    "print(\"Trung bình cộng của các phần tử dương trong list:\",SumAvg_Positive_list(myList))\n",
    "\n",
    "# Tìm giá trị chẵn lớn nhất trong list \n",
    "print(\"Giá trị chẵn lớn nhất trong list:\",max_even_list(myList))\n",
    "\n",
    "# Tìm giá trị lẻ nhỏ nhất trong list\n",
    "print(\"Giá trị lẻ nhỏ nhất trong list:\",min_odd_list(myList))\n",
    "\n",
    "# Hướng dẫn:\n",
    "# - Tạo package Bai9,\n",
    "# - Trong package Bai9, tạo module có tên là ham_list_7.py.\n",
    "# - Import module là ham_list_7 vào các bài tập list số của bài 7 => gọi hàm => xem kết quả\n",
    "\n",
    "# Học viên kết hợp tương tự cho các bài tập về Tuple, Dictionary, Set."
   ]
  }
 ],
 "metadata": {
  "kernelspec": {
   "display_name": "Python 3",
   "language": "python",
   "name": "python3"
  },
  "language_info": {
   "codemirror_mode": {
    "name": "ipython",
    "version": 3
   },
   "file_extension": ".py",
   "mimetype": "text/x-python",
   "name": "python",
   "nbconvert_exporter": "python",
   "pygments_lexer": "ipython3",
   "version": "3.8.3"
  }
 },
 "nbformat": 4,
 "nbformat_minor": 4
}
