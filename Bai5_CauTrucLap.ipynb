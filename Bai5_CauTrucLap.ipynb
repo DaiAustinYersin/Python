{
 "cells": [
  {
   "cell_type": "code",
   "execution_count": 18,
   "metadata": {},
   "outputs": [
    {
     "name": "stdout",
     "output_type": "stream",
     "text": [
      "chẵn\n"
     ]
    }
   ],
   "source": [
    "a = 4\n",
    "if a % 2 == 0:\n",
    "    print(\"chẵn\")\n",
    "else:\n",
    "    print(\"lẻ\")"
   ]
  },
  {
   "cell_type": "code",
   "execution_count": 21,
   "metadata": {
    "scrolled": true
   },
   "outputs": [
    {
     "name": "stdout",
     "output_type": "stream",
     "text": [
      "chẵn\n"
     ]
    }
   ],
   "source": [
    "kq = (\"lẻ\",\"chẵn\")[a % 2 == 0] #(sai,đúng)[đk]\n",
    "print(kq)"
   ]
  },
  {
   "cell_type": "code",
   "execution_count": 22,
   "metadata": {
    "scrolled": true
   },
   "outputs": [
    {
     "name": "stdout",
     "output_type": "stream",
     "text": [
      "chẵn\n"
     ]
    }
   ],
   "source": [
    "kq = \"chẵn\" if a%2==0 else \"lẻ\" #đúng if đk else sai\n",
    "print(kq)"
   ]
  },
  {
   "cell_type": "code",
   "execution_count": 16,
   "metadata": {},
   "outputs": [
    {
     "name": "stdout",
     "output_type": "stream",
     "text": [
      "h\n",
      "e\n",
      "l\n",
      "l\n",
      "o\n",
      "end\n"
     ]
    }
   ],
   "source": [
    "myChar = \"hello\"\n",
    "for ch in myChar:\n",
    "    print(ch)\n",
    "#     if ch == \"o\":\n",
    "#         break\n",
    "else:\n",
    "    print(\"end\")"
   ]
  },
  {
   "cell_type": "code",
   "execution_count": 26,
   "metadata": {},
   "outputs": [
    {
     "name": "stdout",
     "output_type": "stream",
     "text": [
      "1 1\n",
      "2 1\n"
     ]
    }
   ],
   "source": [
    "for i in range (1,3):\n",
    "    for j in range (1,3):\n",
    "        if j == 2:\n",
    "            break\n",
    "        print(i,j)"
   ]
  },
  {
   "cell_type": "code",
   "execution_count": 27,
   "metadata": {},
   "outputs": [
    {
     "name": "stdout",
     "output_type": "stream",
     "text": [
      "10 9 8 7 6 5 4 3 2 1 "
     ]
    }
   ],
   "source": [
    "i = 10\n",
    "while i >= 1:\n",
    "    print(i,end=\" \")\n",
    "    i-=1"
   ]
  },
  {
   "cell_type": "code",
   "execution_count": null,
   "metadata": {},
   "outputs": [],
   "source": [
    "i = 10\n",
    "kq=\"\"\n",
    "while i >= 1:\n",
    "    kq += str(i) + \" \"\n",
    "    i-=1\n",
    "print(kq)"
   ]
  },
  {
   "cell_type": "code",
   "execution_count": null,
   "metadata": {},
   "outputs": [],
   "source": [
    "'''\n",
    "Created on <24/5/2021>\n",
    "\n",
    "@author: Nguyễn Ngọc Đại\n",
    "'''"
   ]
  },
  {
   "cell_type": "code",
   "execution_count": 3,
   "metadata": {
    "scrolled": true
   },
   "outputs": [
    {
     "name": "stdout",
     "output_type": "stream",
     "text": [
      "Input number: 10\n",
      "10\n",
      "9\n",
      "8\n",
      "7\n",
      "6\n",
      "5\n",
      "4\n",
      "3\n",
      "2\n",
      "1\n",
      "Start!!!\n"
     ]
    }
   ],
   "source": [
    "# Đếm ngược - Count down\n",
    "\n",
    "\n",
    "n = int(input('Input number: '))\n",
    "\n",
    "# In ra màn hình các giá trị đếm ngược từ n đến 1 bằng cách sử dụng vòng lặp while\n",
    "while n >= 1:\n",
    "    print(n)\n",
    "    n -= 1\n",
    "print('Start!!!')"
   ]
  },
  {
   "cell_type": "code",
   "execution_count": 6,
   "metadata": {
    "scrolled": true
   },
   "outputs": [
    {
     "name": "stdout",
     "output_type": "stream",
     "text": [
      "10\n",
      "9\n",
      "8\n",
      "7\n",
      "6\n",
      "5\n",
      "4\n",
      "3\n",
      "2\n",
      "1\n",
      "Start!!!\n"
     ]
    }
   ],
   "source": [
    "# In ra màn hình các giá trị đếm ngược từ n đến 1 bằng cách sử dụng vòng lặp for\n",
    "for i in range(10,0,-1):\n",
    "    print(i)\n",
    "print('Start!!!')"
   ]
  },
  {
   "cell_type": "code",
   "execution_count": 32,
   "metadata": {},
   "outputs": [
    {
     "name": "stdout",
     "output_type": "stream",
     "text": [
      "Nhập x: 7\n",
      "7 is a prime number\n"
     ]
    }
   ],
   "source": [
    "# Học viên viết chương trình kiểm tra số nguyên tố với yêu cầu sau:\n",
    "# - Người dùng nhập vào một số x (Input),\n",
    "# - Chương trình sẽ kiểm tra xem x có phải là số nguyên tố hay không?\n",
    "# và in ra kết quả (Là số nguyên tố/ Không là số nguyên tố) (Output).\n",
    "\n",
    "# Lưu ý: Số nguyên tố là số chỉ chia hết cho 1 và chính nó.\n",
    "\n",
    "x = int(input(\"Nhập x: \"))\n",
    "\n",
    "if x <= 1:\n",
    "    print(\"%d is not a prime number\" %x)\n",
    "    quit()\n",
    "for i in range(2,x):\n",
    "    if x % i == 0:\n",
    "        print(\"%d is not a prime number\" %x)\n",
    "        break\n",
    "else:\n",
    "    print(\"%d is a prime number\" %x)"
   ]
  },
  {
   "cell_type": "code",
   "execution_count": 41,
   "metadata": {},
   "outputs": [
    {
     "name": "stdout",
     "output_type": "stream",
     "text": [
      "Nhập n: 8\n",
      "0 1 1 2 3 5 8 13 "
     ]
    }
   ],
   "source": [
    "# Dãy Fibonacci là dãy vô hạn các số tự nhiên bắt đầu bằng hai phần tử 0 và 1, có quy luật khá đơn giản: “Phần tử đứng sau bằng tổng hai phần tử trước đó cộng lại”.\n",
    "# Dãy số Fibonacci có rất nhiều ứng dụng trong thực tế như : kiến trúc, nghệ thuật và phân tích kỹ thuật dự đoán xu hướng thị trường...\n",
    "\n",
    "# Trong bài tập này, Học viên sẽ lập trình xây dựng chương trình in ra n số đầu tiên trong dãy Fibonacci với yêu cầu sau:\n",
    "# - Người dùng nhập vào giá trị n (Input)\n",
    "# - Chương trình sẽ in ra dãy số Fibonacci đến n (Output)\n",
    "n = int(input(\"Nhập n: \"))\n",
    "\n",
    "n1 = 0\n",
    "n2 = 1\n",
    "n3 = 1\n",
    "\n",
    "print(n1,n2,end=\" \")\n",
    "\n",
    "for i in range(3,n+1):\n",
    "    n3 = n1 + n2\n",
    "    print(n3,end=\" \")\n",
    "    n1,n2 = n2,n3\n",
    "    \n",
    "# Ví dụ:\n",
    "# Nhập n: 8\n",
    "# Dãy Fibonacci là: 0, 1, 1, 2, 3, 5, 8, 13"
   ]
  },
  {
   "cell_type": "code",
   "execution_count": 5,
   "metadata": {},
   "outputs": [
    {
     "name": "stdout",
     "output_type": "stream",
     "text": [
      "Nhập n: 10\n",
      "A = 1 + 3 + 5 + 7 + 9 + = 25\n",
      "B = 2 + 4 + 6 + 8 + 10 + = 30\n",
      "C = 1 * 2 * 3 * 4 * 5 * 6 * 7 * 8 * 9 * 10 * = 3628800\n",
      "D = 3 * 6 * 9 * = 162\n",
      "E = 2 + 3 + 5 + 7 + = 17\n"
     ]
    }
   ],
   "source": [
    "# Viết chương trình tính và in ra kết quả của các biểu thức với kết quả như hình minh họa.\n",
    "# - Người dùng nhập vào một số nguyên n (Input)\n",
    "# - Chương trình sẽ tính các biểu thức sau đây:\n",
    "# A = tổng các số lẻ nhỏ hơn hay bằng n\n",
    "# B = tổng các số chẵn nhỏ hơn hay bằng n\n",
    "# C = tích các số từ 1 đến n\n",
    "# D = tích các số chia hết cho 3 nhỏ hơn hay bằng n\n",
    "# E = tổng các số nguyên tố nhỏ hơn hay bằng n\n",
    "# và in ra các kết quả của A, B, C, D, E.\n",
    "n = int(input(\"Nhập n: \"))\n",
    "\n",
    "A = 0\n",
    "print(\"A = \",end=\"\")\n",
    "for i in range (1,n+1):\n",
    "    if i % 2 == 1:\n",
    "        A += i\n",
    "        print(i,\"+\",end=\" \")\n",
    "print(\"=\",A)\n",
    "B = 0\n",
    "print(\"B = \",end=\"\")\n",
    "for i in range (1,n+1):\n",
    "    if i % 2 ==0:\n",
    "        B+=i\n",
    "        print(i,\"+\",end=\" \")\n",
    "print(\"=\",B)\n",
    "C = 1\n",
    "print(\"C = \",end='')\n",
    "for i in range(1,n+1):\n",
    "    C*=i\n",
    "    print(i,\"*\",end=' ')\n",
    "print(\"=\",C)\n",
    "D = 1\n",
    "print(\"D = \",end=\"\")\n",
    "for i in range(1,n+1):\n",
    "    if i % 3 == 0:\n",
    "        D *= i\n",
    "        print(i,\"*\",end=\" \")\n",
    "print(\"=\",D)\n",
    "E = 0\n",
    "print(\"E = \",end=\"\")\n",
    "for i in range(1,n+1):\n",
    "    if i > 1:\n",
    "        for j in range(2,i):\n",
    "            if i % j == 0:\n",
    "                break\n",
    "        else:\n",
    "            E += i\n",
    "            print(i,\"+\",end=\" \")\n",
    "print(\"=\",E)"
   ]
  },
  {
   "cell_type": "code",
   "execution_count": 4,
   "metadata": {},
   "outputs": [
    {
     "name": "stdout",
     "output_type": "stream",
     "text": [
      "Nhập chuỗi: Hello Python3\n",
      "olleH 3nohtyP "
     ]
    }
   ],
   "source": [
    "# Viết chương trình xử lý chuỗi với yêu cầu sau:\n",
    "# - Người dùng sẽ nhập vào một chuỗi gồm nhiều từ cách nhau bằng khoảng trắng (Input)\n",
    "# - Chương trình sẽ xuất ra chuỗi mà trong đó mỗi từ sẽ được đảo ngược (Output).\n",
    "myStr = str(input(\"Nhập chuỗi: \"))\n",
    "ds = myStr.split()\n",
    "for i in ds:\n",
    "    print(i[::-1],end=\" \")\n",
    "# for i in range(len(myStr)-1,-1,-1):\n",
    "#     print(myStr[i],end=\" \")\n",
    "# Ví dụ:\n",
    "# + Input: Hello Python\n",
    "# + Output: olleH nohtyP"
   ]
  },
  {
   "cell_type": "code",
   "execution_count": 6,
   "metadata": {},
   "outputs": [
    {
     "name": "stdout",
     "output_type": "stream",
     "text": [
      "Nhập chuỗi: Hello Python3\n",
      "Số chữ cái là: 11\n",
      "Số chữ số là: 1\n"
     ]
    }
   ],
   "source": [
    "# Viết chương trình đếm số ký tự văn bản và số ký tự là số (0-9) trong chuỗi.\n",
    "# Yêu cầu:\n",
    "# - Người dùng nhập vào một chuỗi bao gồm ký tự và số (Input)\n",
    "# - Chương trình sẽ đếm số ký tự và số chữ số trong chuỗi, không tính khoảng trắng\n",
    "# và in ra kết quả (Output)\n",
    "Str = input(\"Nhập chuỗi: \")\n",
    "chu = 0\n",
    "so = 0\n",
    "for char in Str:\n",
    "    if 'A' <= char <= 'Z' or 'a' <= char <= 'z':\n",
    "        chu += 1\n",
    "    elif '0' <= char <= '9':\n",
    "        so += 1\n",
    "    else:\n",
    "        continue\n",
    "print(\"Số chữ cái là:\",chu)\n",
    "print(\"Số chữ số là:\",so)\n",
    "# Ví dụ:\n",
    "# - input: Happy Teacher Day 20-11\n",
    "# - output:\n",
    "# + Số chữ cái là: 16\n",
    "# + Số chữ số là: 4\n",
    "# Học viên có thể mở rộng thêm: đếm số chữ cái, số chữ số và số ký tự đặc biệt."
   ]
  },
  {
   "cell_type": "code",
   "execution_count": 67,
   "metadata": {},
   "outputs": [
    {
     "name": "stdout",
     "output_type": "stream",
     "text": [
      "Nhập n: 4\n",
      "Nhập x: 5\n",
      "S = (x^2 + 1)^n = 456976.0\n"
     ]
    }
   ],
   "source": [
    "# Xây dựng chương trình tính và in ra kết quả của biểu thức S = (x^2 + 1)^n\n",
    "# - Người dùng nhập vào một số nguyên n và một số thực x (Input).\n",
    "# - Chương trình sẽ tính S = (x^2 + 1)^n\n",
    "# và in ra Tổng S (Output).\n",
    "n = int(input(\"Nhập n: \"))\n",
    "x = float(input(\"Nhập x: \"))\n",
    "S = 1\n",
    "for i in range(n):\n",
    "    S *= (x*x + 1)\n",
    "print(\"S = (x^2 + 1)^n =\",S)"
   ]
  },
  {
   "cell_type": "code",
   "execution_count": 68,
   "metadata": {},
   "outputs": [
    {
     "name": "stdout",
     "output_type": "stream",
     "text": [
      "Nhập n: 3\n",
      "Nhập x: 2\n",
      "A = (x^2 + x + 1)^n + (x^2 - x + 1)^n = 370.0\n"
     ]
    }
   ],
   "source": [
    "# Xây dựng chương trình tính và in ra kết quả của biểu thức A = (x^2 + x + 1)^n + (x^2 - x + 1)^n\n",
    "# - Người dùng nhập vào một số nguyên n và một số thực x (input)\n",
    "# - Chương trình sẽ tính A = (x^2 + x + 1)^n + (x^2 - x + 1)^n\n",
    "# và in ra kết quả A (output)\n",
    "n = int(input(\"Nhập n: \"))\n",
    "x = float(input(\"Nhập x: \"))\n",
    "a1 = 1\n",
    "a2 = 1\n",
    "for i in range(n):\n",
    "    a1 *= (x*x + x + 1)\n",
    "    a2 *= (x*x - x + 1)\n",
    "a = a1 + a2\n",
    "print(\"A = (x^2 + x + 1)^n + (x^2 - x + 1)^n =\",a)"
   ]
  }
 ],
 "metadata": {
  "kernelspec": {
   "display_name": "Python 3",
   "language": "python",
   "name": "python3"
  },
  "language_info": {
   "codemirror_mode": {
    "name": "ipython",
    "version": 3
   },
   "file_extension": ".py",
   "mimetype": "text/x-python",
   "name": "python",
   "nbconvert_exporter": "python",
   "pygments_lexer": "ipython3",
   "version": "3.8.3"
  }
 },
 "nbformat": 4,
 "nbformat_minor": 5
}
