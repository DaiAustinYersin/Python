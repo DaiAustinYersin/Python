{
 "cells": [
  {
   "cell_type": "markdown",
   "metadata": {},
   "source": [
    "# Làm việc với tập tin"
   ]
  },
  {
   "cell_type": "code",
   "execution_count": null,
   "metadata": {},
   "outputs": [],
   "source": [
    "f = open('Bai11.txt')\n",
    "cont = f.read()\n",
    "print(cont)\n",
    "f.seek(9,0) #số lượng byte di chuyển, di chuyển vị trí\n",
    "print(f.read())\n",
    "f.close()"
   ]
  },
  {
   "cell_type": "code",
   "execution_count": null,
   "metadata": {},
   "outputs": [],
   "source": [
    "f1 = open('Bai11.txt','w+')\n",
    "f1.write('Noi dung da duoc ghi')\n",
    "f1.seek(0,0)\n",
    "print(f1.read())\n",
    "f1.close()"
   ]
  },
  {
   "cell_type": "code",
   "execution_count": null,
   "metadata": {},
   "outputs": [],
   "source": [
    "f2 = open('Bai11.txt','a+',encoding='utf-8')\n",
    "f2.write('\\nNoi dung da duoc ghi them')\n",
    "f2.seek(0,0)\n",
    "print(f2.read())\n",
    "f2.close()"
   ]
  },
  {
   "cell_type": "code",
   "execution_count": null,
   "metadata": {},
   "outputs": [],
   "source": [
    "f3 = open('Bai11.txt','w',encoding='utf-8')\n",
    "f3.write('Ghi tiếng Việt')\n",
    "f3.close()"
   ]
  },
  {
   "cell_type": "code",
   "execution_count": null,
   "metadata": {},
   "outputs": [],
   "source": [
    "f = open('Bai11.txt',encoding='utf-8')\n",
    "print(f.read())\n",
    "f.close()"
   ]
  },
  {
   "cell_type": "code",
   "execution_count": null,
   "metadata": {},
   "outputs": [],
   "source": [
    "with open(\"Bai11.txt\",encoding='utf-8') as f:\n",
    "    print(f.readline())"
   ]
  },
  {
   "cell_type": "code",
   "execution_count": null,
   "metadata": {},
   "outputs": [],
   "source": [
    "with open(\"module/Bai11.txt\",encoding='utf-8') as f:\n",
    "    for i in f.readlines():\n",
    "        print(i,end=\"\")"
   ]
  },
  {
   "cell_type": "markdown",
   "metadata": {},
   "source": [
    "# Bài tập 11.1: Mở - đọc file"
   ]
  },
  {
   "cell_type": "code",
   "execution_count": 1,
   "metadata": {},
   "outputs": [
    {
     "name": "stdout",
     "output_type": "stream",
     "text": [
      "Day la bai 11.1\n",
      "Thuoc Bai11.Files_IO"
     ]
    }
   ],
   "source": [
    "# Viết chương trình mở và đọc nội dung tập tin.\n",
    "# - Người dùng nhập tên tập tin cần đọc.\n",
    "\n",
    "# f = open(\"Bai11/Bai11.1.txt\",'r')\n",
    "# print(f.read())\n",
    "# f.close()\n",
    "\n",
    "with open(\"Bai11/Bai11.1.txt\") as f:\n",
    "    for i in f.readlines():\n",
    "        print(i,end=\"\")\n",
    "# - Chương trình sẽ đọc và in ra nội dung của tập tin vừa nhập."
   ]
  },
  {
   "cell_type": "code",
   "execution_count": 2,
   "metadata": {},
   "outputs": [
    {
     "name": "stdout",
     "output_type": "stream",
     "text": [
      "Day la bai 11.1\n",
      "Thuoc Bai11.Files_IO\n"
     ]
    }
   ],
   "source": [
    "with open(\"Bai11/Bai11.1.txt\") as f:\n",
    "    print(f.read())"
   ]
  },
  {
   "cell_type": "code",
   "execution_count": 17,
   "metadata": {},
   "outputs": [
    {
     "name": "stdout",
     "output_type": "stream",
     "text": [
      "Nhập tên tập tin:\n",
      "Bai11/Johny.txt\n",
      "\n",
      "Nội dung tập tin:\n",
      "Johny, Johny\n",
      "Yes, Papa?\n",
      "Eating sugar?\n",
      "No, papa!\n",
      "Telling lies?\n",
      "No, papa!\n",
      "Open your mouth\n",
      "Ha, ha, ha!\n",
      "\n",
      "Johny, Johny\n",
      "Yes, Papa?\n",
      "Eating sugar?\n",
      "No, papa!\n",
      "Telling lies?\n",
      "No, papa!\n",
      "Open your mouth\n",
      "Ha, ha, ha!\n"
     ]
    }
   ],
   "source": [
    "# Xây dựng phương thức đọc nội dung tập tin\n",
    "def read_file(filename):\n",
    "    f = open(filename)\n",
    "    return f.read()\n",
    "    f.close()\n",
    "\n",
    "filename = input('Nhập tên tập tin:\\n')\n",
    "print('\\nNội dung tập tin:')\n",
    "print(read_file(filename))"
   ]
  },
  {
   "cell_type": "markdown",
   "metadata": {},
   "source": [
    "# Bài tập 11.2: Mở - đọc – thống kê (Số dòng, số từ, số ký tự) file"
   ]
  },
  {
   "cell_type": "code",
   "execution_count": 15,
   "metadata": {},
   "outputs": [
    {
     "name": "stdout",
     "output_type": "stream",
     "text": [
      "Nhập tên tập tin:\n",
      "Bai11/Hope.txt\n",
      "\n",
      "Nội dung tập tin: \n",
      "As all the dreams I had.\n",
      "\n",
      "----- Thống kê: Số dòng/ Số từ/ Số ký tự -----\n",
      "Lines: 8 , Words: 49 , Chars: 229\n"
     ]
    },
    {
     "data": {
      "text/plain": [
       "'\\nNhập tên tập tin:\\nHope.txt\\n\\nNội dung tập tin:\\nI hoped that he would love me,\\nAnd he has kissed my mouth,\\nBut I am like a stricken bird\\nThat cannot reach the south.\\nFor though I know he loves me,\\nTo-night my heart is sad;\\nHis kiss was not so wonderful\\nAs all the dreams I had.\\n\\n----- Thống kê: Số dòng/ Số từ/ Số ký tự -----\\nLines: 8 , Words: 49 , Chars: 232\\n\\n'"
      ]
     },
     "execution_count": 15,
     "metadata": {},
     "output_type": "execute_result"
    }
   ],
   "source": [
    "# Viết chương trình mở - đọc – thống kê nội dung tập tin.\n",
    "# - Người dùng nhập tên tập tin.\n",
    "# - Chương trình sẽ hiển thị nội dung tập tin, và thống kê số dòng, số từ, số ký tự trong tập tin.\n",
    "def read_report_file(filename):\n",
    "    file_in = open(filename,'r')\n",
    "    print('\\nNội dung tập tin: ')\n",
    "    count_lines = 0\n",
    "    count_words = 0\n",
    "    count_chars = 0\n",
    "    str = ''\n",
    "    lst = []\n",
    "    # Học viên viết code để thống kê (số dòng, số từ, số ký tự)\n",
    "    with open(filename) as f:\n",
    "        for i in file_in.readlines():\n",
    "            lst.append(i)\n",
    "            str = i\n",
    "            count_chars += len(str)\n",
    "            count_words += len(i.split(\" \"))\n",
    "        count_lines = len(lst)\n",
    "\n",
    "    file_in.close()\n",
    "    \n",
    "    print(str)\n",
    "    print(\"\\n----- Thống kê: Số dòng/ Số từ/ Số ký tự -----\")\n",
    "    print('Lines:', count_lines, ', Words:', count_words, ', Chars:', count_chars)\n",
    "\n",
    "\n",
    "filename = input('Nhập tên tập tin:\\n')\n",
    "read_report_file(filename)\n",
    "\n",
    "\n",
    "\n",
    "# In kết quả\n",
    "'''\n",
    "Nhập tên tập tin:\n",
    "Hope.txt\n",
    "\n",
    "Nội dung tập tin:\n",
    "I hoped that he would love me,\n",
    "And he has kissed my mouth,\n",
    "But I am like a stricken bird\n",
    "That cannot reach the south.\n",
    "For though I know he loves me,\n",
    "To-night my heart is sad;\n",
    "His kiss was not so wonderful\n",
    "As all the dreams I had.\n",
    "\n",
    "----- Thống kê: Số dòng/ Số từ/ Số ký tự -----\n",
    "Lines: 8 , Words: 49 , Chars: 232\n",
    "\n",
    "'''"
   ]
  },
  {
   "cell_type": "markdown",
   "metadata": {},
   "source": [
    "# Bài tập 11.3: Mở - đọc – ghi file"
   ]
  },
  {
   "cell_type": "code",
   "execution_count": 18,
   "metadata": {},
   "outputs": [
    {
     "name": "stdout",
     "output_type": "stream",
     "text": [
      "Nhập tên tập tin:\n",
      "Bai11/if.txt\n",
      "\n",
      "Nhập nội dung:\n",
      "If water were kisses, I'd send you the sea If leaves were hugs, I'd send you a tree If nite was love ,I'd send you the stars But I can't send u my heart cause that where you are.\n",
      "\n",
      "Nội dung tập tin:\n",
      "  If water were kisses, I'd send you the sea If leaves were hugs, I'd send you a tree If nite was love ,I'd send you the stars But I can't send u my heart cause that where you are.\n"
     ]
    }
   ],
   "source": [
    "# Viết chương trình ghi nội dung vào tập tin.\n",
    "# - Người dùng nhập tên tập tin và nội dung của tập tin\n",
    "# - Chương trình sẽ thực hiện:\n",
    "# + Nếu chưa tồn tại tập tin: tạo tập tin và ghi nội dung vào\n",
    "# + Nếu đã tồn tại tập tin: xóa nội dung cũ, ghi nội dung mới\n",
    "\n",
    "# ---------------------------------\n",
    "# Nội dung tập tin <if.txt>\n",
    "# If water were kisses, I'd send you the sea\n",
    "# If leaves were hugs, I'd send you a tree\n",
    "# If nite was love ,I'd send you the stars\n",
    "# But I can't send u my heart cause that where you are.\n",
    "# ---------------------------------\n",
    "\n",
    "# Phương thức ghi nội dung vào tập tin\n",
    "def write_file(filename, content):\n",
    "    f = open(filename,'w')\n",
    "    f.write(content)\n",
    "    f.close()\n",
    "\n",
    "# Phương thức đọc nội dung tập tin\n",
    "def read_file(filename):\n",
    "    f = open(filename)\n",
    "    return f.read()\n",
    "    f.close()\n",
    "\n",
    "filename = input('Nhập tên tập tin:\\n')\n",
    "content = input('\\nNhập nội dung:\\n')\n",
    "write_file(filename, content)\n",
    "print('\\nNội dung tập tin:\\n ', read_file(filename))"
   ]
  },
  {
   "cell_type": "markdown",
   "metadata": {},
   "source": [
    "# Bài tập 11.4: Mở - đọc – ghi vào cuối file"
   ]
  },
  {
   "cell_type": "code",
   "execution_count": 49,
   "metadata": {},
   "outputs": [
    {
     "name": "stdout",
     "output_type": "stream",
     "text": [
      "Nhập tên tập tin:\n",
      "Bai11/QuaDeoNgang.txt\n",
      "Nhập nội dung:Bước tới Đèo Ngang, bóng xế tà,\n",
      "Bạn có muốn tiếp tục ghi nội dung vào file? 1: Có; 0: Không\t1\n",
      "Nhập nội dung:Cỏ cây chen đá, lá chen hoa.\n",
      "Bạn có muốn tiếp tục ghi nội dung vào file? 1: Có; 0: Không\t1\n",
      "Nhập nội dung:Lom khom dưới núi, tiều vài chú\n",
      "Bạn có muốn tiếp tục ghi nội dung vào file? 1: Có; 0: Không\t1\n",
      "Nhập nội dung:Lác đác bên sông, chợ mấy nhà.\n",
      "Bạn có muốn tiếp tục ghi nội dung vào file? 1: Có; 0: Không\t0\n",
      "Đã ghi nội dung vào tập tin QuaDeoNgang.txt\n",
      "\n",
      "Nội dung tập tin sau khi ghi: \n",
      "Bước tới Đèo Ngang, bóng xế tà,\n",
      "Cỏ cây chen đá, lá chen hoa.\n",
      "Lom khom dưới núi, tiều vài chú\n",
      "Lác đác bên sông, chợ mấy nhà.\n",
      "\n"
     ]
    },
    {
     "data": {
      "text/plain": [
       "'\\nNhập tên tập tin:\\nQuaDeoNgang.txt\\nNhập nội dung:\\nBước tới Đèo Ngang, bóng xế tà,\\nBạn có muốn tiếp tục ghi nội dung vào file? 1: Có; 0: Không\\n1\\nNhập nội dung:\\nCỏ cây chen đá, lá chen hoa.\\nBạn có muốn tiếp tục ghi nội dung vào file? 1: Có; 0: Không\\n1\\nNhập nội dung:\\nLom khom dưới núi, tiều vài chú\\nBạn có muốn tiếp tục ghi nội dung vào file? 1: Có; 0: Không\\n1\\nNhập nội dung:\\nLác đác bên sông, chợ mấy nhà.\\nBạn có muốn tiếp tục ghi nội dung vào file? 1: Có; 0: Không\\n0\\nĐã ghi nội dung vào tập tin QuaDeoNgang.txt\\n\\nNội dung tập tin sau khi ghi:  \\nBước tới Đèo Ngang, bóng xế tà,\\nCỏ cây chen đá, lá chen hoa.\\nLom khom dưới núi, tiều vài chú\\nLác đác bên sông, chợ mấy nhà.\\n\\n'"
      ]
     },
     "execution_count": 49,
     "metadata": {},
     "output_type": "execute_result"
    }
   ],
   "source": [
    "# Viết chương trình ghi nội dung vào tập tin.\n",
    "# - Người dùng nhập tên tập tin và nội dung tập tin.\n",
    "# - Chương trình sẽ thực hiện:\n",
    "# + Nếu chưa tồn tại tập tin: tạo tập tin và ghi nội dung vào\n",
    "# + Nếu đã tồn tại tập tin: ghi nội dung vào cuối tập tin tin, xuống dòng\n",
    "# + Hỏi người dùng có muốn tiếp tục ghi nữa hay không? Người dùng chọn 1: có, chọn 0: không\n",
    "# * Nếu chọn 1: yêu cầu người dùng nhập nội dung => ghi nội dung vào cuối tập tin, xuống dòng\n",
    "# * Nếu chọn 0: kết thúc chương trình\n",
    "\n",
    "# -----------------------\n",
    "# Nội dung bài thơ Qua Đèo Ngang (Bà Huyện Thanh Quan):\n",
    "# Bước tới Đèo Ngang, bóng xế tà,\n",
    "# Cỏ cây chen đá, lá chen hoa.\n",
    "# Lom khom dưới núi, tiều vài chú\n",
    "# Lác đác bên sông, chợ mấy nhà.\n",
    "# Nhớ nước đau lòng, con quốc quốc,\n",
    "# Thương nhà mỏi miệng, cái gia gia.\n",
    "# Dừng chân đứng lại trời, non, nước,\n",
    "# Một mảnh tình riêng, ta với ta.\n",
    "# -----------------------\n",
    "\n",
    "# Học viên xây dựng phương thức ghi nội dung vào cuối tập tin\n",
    "def write_to_end_of_file(filename):\n",
    "    f = open(filename,'w',encoding='utf-8')\n",
    "    hoi = 1\n",
    "    while(hoi != 0):\n",
    "        s = input(\"Nhập nội dung:\")\n",
    "        f.write(s + '\\n')\n",
    "        hoi = int(input(\"Bạn có muốn tiếp tục ghi nội dung vào file? 1: Có; 0: Không\\t\"))\n",
    "    print(\"Đã ghi nội dung vào tập tin QuaDeoNgang.txt\")\n",
    "# Phương thức đọc nội dung tập tin\n",
    "def read_file(filename):\n",
    "    f = open(filename,'r', encoding='utf-8')\n",
    "    str = f.read()\n",
    "    f.close()\n",
    "    return str\n",
    "\n",
    "\n",
    "filename = input('Nhập tên tập tin:\\n')\n",
    "write_to_end_of_file(filename)\n",
    "print('\\nNội dung tập tin sau khi ghi: ')\n",
    "print(read_file(filename))\n",
    "\n",
    "\n",
    "# In kết quả\n",
    "'''\n",
    "Nhập tên tập tin:\n",
    "QuaDeoNgang.txt\n",
    "Nhập nội dung:\n",
    "Bước tới Đèo Ngang, bóng xế tà,\n",
    "Bạn có muốn tiếp tục ghi nội dung vào file? 1: Có; 0: Không\n",
    "1\n",
    "Nhập nội dung:\n",
    "Cỏ cây chen đá, lá chen hoa.\n",
    "Bạn có muốn tiếp tục ghi nội dung vào file? 1: Có; 0: Không\n",
    "1\n",
    "Nhập nội dung:\n",
    "Lom khom dưới núi, tiều vài chú\n",
    "Bạn có muốn tiếp tục ghi nội dung vào file? 1: Có; 0: Không\n",
    "1\n",
    "Nhập nội dung:\n",
    "Lác đác bên sông, chợ mấy nhà.\n",
    "Bạn có muốn tiếp tục ghi nội dung vào file? 1: Có; 0: Không\n",
    "0\n",
    "Đã ghi nội dung vào tập tin QuaDeoNgang.txt\n",
    "\n",
    "Nội dung tập tin sau khi ghi:  \n",
    "Bước tới Đèo Ngang, bóng xế tà,\n",
    "Cỏ cây chen đá, lá chen hoa.\n",
    "Lom khom dưới núi, tiều vài chú\n",
    "Lác đác bên sông, chợ mấy nhà.\n",
    "\n",
    "'''"
   ]
  },
  {
   "cell_type": "markdown",
   "metadata": {},
   "source": [
    "# Làm việc với file CSV"
   ]
  },
  {
   "cell_type": "code",
   "execution_count": 19,
   "metadata": {},
   "outputs": [],
   "source": [
    "import csv"
   ]
  },
  {
   "cell_type": "code",
   "execution_count": 23,
   "metadata": {},
   "outputs": [
    {
     "name": "stdout",
     "output_type": "stream",
     "text": [
      "['a', 'b', 'c']\n",
      "['1', '2', '3']\n"
     ]
    }
   ],
   "source": [
    "f = open(\"Bai11/data.csv\")\n",
    "for row in csv.reader(f):\n",
    "    print(row)\n",
    "f.close()"
   ]
  },
  {
   "cell_type": "code",
   "execution_count": 26,
   "metadata": {},
   "outputs": [
    {
     "name": "stdout",
     "output_type": "stream",
     "text": [
      "a \t c\n",
      "1 \t 3\n"
     ]
    }
   ],
   "source": [
    "f = open(\"Bai11/data.csv\")\n",
    "for row in csv.reader(f):\n",
    "    print(row[0], \"\\t\", row[2])\n",
    "f.close()"
   ]
  },
  {
   "cell_type": "code",
   "execution_count": 28,
   "metadata": {},
   "outputs": [],
   "source": [
    "f = open(\"Bai11/data.csv\")\n",
    "data = []\n",
    "for row in csv.reader(f):\n",
    "    data.append(i)\n",
    "f.close()"
   ]
  },
  {
   "cell_type": "code",
   "execution_count": 30,
   "metadata": {},
   "outputs": [],
   "source": [
    "f = open(\"Bai11/data1.csv\",'a',newline='')\n",
    "for i in data:\n",
    "    csv.writer(f).writerow(i)\n",
    "f.close()"
   ]
  },
  {
   "cell_type": "markdown",
   "metadata": {},
   "source": [
    "# Bài tập 11.5: Mở - đọc - đóng file CSV"
   ]
  },
  {
   "cell_type": "code",
   "execution_count": 41,
   "metadata": {},
   "outputs": [
    {
     "name": "stdout",
     "output_type": "stream",
     "text": [
      "Nhập tên tập tin .csv:\n",
      "Bai11/menu.csv\n",
      "\n",
      "Nội dung tập tin:\n",
      "['Monday', 'ham', 'biscuits', 'corn', 'spinach', 'apple pie']\n",
      "['Tuesday', 'steak', 'rolls', 'yams', 'beets', 'crème brulee']\n",
      "['Wednesday', 'fried chicken', 'biscuits', 'mashed potatoes', 'cole slaw', 'vanilla ice cream']\n",
      "['Thursday', 'clam rolls', 'tartar sauce', 'french fries', 'ice tea', 'chocolate ice cream']\n",
      "['Friday', 'meat loaf', 'biscuits', 'lima beans', 'garden salad', 'chocolate cake']\n"
     ]
    },
    {
     "data": {
      "text/plain": [
       "\"\\nNhập tên tập tin .csv:\\nmenu.csv\\n\\nNội dung tập tin:\\n['Monday', 'ham', 'biscuits', 'corn', 'spinach', 'apple pie']\\n['Tuesday', 'steak', 'rolls', 'yams', 'beets', 'crème brulee']\\n['Wednesday', 'fried chicken', 'biscuits', 'mashed potatoes', 'cole slaw', 'vanilla ice cream']\\n['Thursday', 'clam rolls', 'tartar sauce', 'french fries', 'ice tea', 'chocolate ice cream']\\n['Friday', 'meat loaf', 'biscuits', 'lima beans', 'garden salad', 'chocolate cake']\\nNone\\n\\n\""
      ]
     },
     "execution_count": 41,
     "metadata": {},
     "output_type": "execute_result"
    }
   ],
   "source": [
    "# Viết chương trình mở và đọc nội dung tập tin CSV .\n",
    "# - Người dùng nhập tên tập tin .csv cần đọc\n",
    "# - Chương trình sẽ đọc và in ra nội dung tập tin.\n",
    "\n",
    "import csv\n",
    "\n",
    "# Học viên xây dựng phương thức đọc nội dung tập tin .CSV\n",
    "def read_csv_file(filename):    \n",
    "    f = open(filename)\n",
    "    data = []\n",
    "    for row in csv.reader(f):\n",
    "        data.append(row)\n",
    "    for i in data:\n",
    "        print(i)\n",
    "    f.close()\n",
    "\n",
    "    \n",
    "\n",
    "filename = input('Nhập tên tập tin .csv:\\n')\n",
    "print('\\nNội dung tập tin:')\n",
    "read_csv_file(filename)\n",
    "\n",
    "\n",
    "\n",
    "# In kết quả\n",
    "'''\n",
    "Nhập tên tập tin .csv:\n",
    "menu.csv\n",
    "\n",
    "Nội dung tập tin:\n",
    "['Monday', 'ham', 'biscuits', 'corn', 'spinach', 'apple pie']\n",
    "['Tuesday', 'steak', 'rolls', 'yams', 'beets', 'crème brulee']\n",
    "['Wednesday', 'fried chicken', 'biscuits', 'mashed potatoes', 'cole slaw', 'vanilla ice cream']\n",
    "['Thursday', 'clam rolls', 'tartar sauce', 'french fries', 'ice tea', 'chocolate ice cream']\n",
    "['Friday', 'meat loaf', 'biscuits', 'lima beans', 'garden salad', 'chocolate cake']\n",
    "None\n",
    "\n",
    "'''"
   ]
  },
  {
   "cell_type": "markdown",
   "metadata": {},
   "source": [
    "# Bài tập 11.6: Mở - đọc – ghi danh sách vào cuối file CSV"
   ]
  },
  {
   "cell_type": "code",
   "execution_count": 43,
   "metadata": {},
   "outputs": [
    {
     "name": "stdout",
     "output_type": "stream",
     "text": [
      "Nhập tên tập tin .csv:\n",
      "Bai11/danhba.csv\n",
      "\n",
      "Nội dung tập tin sau khi ghi: \n",
      "Name\tFone\n",
      "Johnny Lee\t0913 753852\n",
      "Peter Son\t0989 753951\n",
      "Johnnathan\t0903 123456\n"
     ]
    },
    {
     "data": {
      "text/plain": [
       "'\\nNhập tên tập tin .csv:\\ndanhba.csv\\n\\nNội dung tập tin sau khi ghi:\\nName     Fone\\nSarah\\t0989 788951\\nDaisy\\t0973 329496\\nOwthen\\t0773 700951\\nLee\\t    0383 900852\\nJohnny Lee       0913 753852\\nPeter Son        0989 753951\\nJohnnathan       0903 123456\\n\\n'"
      ]
     },
     "execution_count": 43,
     "metadata": {},
     "output_type": "execute_result"
    }
   ],
   "source": [
    "# Viết chương trình ghi danh sách số điện thoại vào cuối file csv như sau:\n",
    "# - Người dùng nhập tên tập tin csv (ví dụ: danhba.csv), danh sách số điện thoại (Tên – Số điện thoại)\n",
    "# - Chương trình sẽ ghi danh sách số điện thoại vào tập tin.\n",
    "\n",
    "import csv\n",
    "\n",
    "# Học viên xây dựng phương thức ghi nội dung vào tập tin .csv\n",
    "def write_csv_file(filename, listContent):  \n",
    "    f = open(filename,'w',newline='')\n",
    "    for i in listContent:\n",
    "        csv.writer(f).writerow(i)\n",
    "    f.close()\n",
    "\n",
    "# Học viên xây dựng phương thức đọc nội dung tập tin .csv\n",
    "def read_csv_file_column(filename):    \n",
    "    f = open(filename)\n",
    "    data = []\n",
    "    for row in csv.reader(f):\n",
    "        data.append(row)\n",
    "    print(\"Name\" + '\\t' + \"Fone\")\n",
    "    for i in data:\n",
    "        print(i[0] + '\\t' + i[1])\n",
    "    f.close()\n",
    "\n",
    "filename = input('Nhập tên tập tin .csv:\\n')\n",
    "listContent = [['Johnny Lee', '0913 753852'], ['Peter Son', '0989 753951'], ['Johnnathan','0903 123456']]\n",
    "write_csv_file(filename, listContent)\n",
    "print('\\nNội dung tập tin sau khi ghi: ')\n",
    "read_csv_file_column(filename)\n",
    "\n",
    "\n",
    "# In kết quả\n",
    "'''\n",
    "Nhập tên tập tin .csv:\n",
    "danhba.csv\n",
    "\n",
    "Nội dung tập tin sau khi ghi:\n",
    "Name     Fone\n",
    "Johnny Lee       0913 753852\n",
    "Peter Son        0989 753951\n",
    "Johnnathan       0903 123456\n",
    "\n",
    "'''"
   ]
  }
 ],
 "metadata": {
  "kernelspec": {
   "display_name": "Python 3",
   "language": "python",
   "name": "python3"
  },
  "language_info": {
   "codemirror_mode": {
    "name": "ipython",
    "version": 3
   },
   "file_extension": ".py",
   "mimetype": "text/x-python",
   "name": "python",
   "nbconvert_exporter": "python",
   "pygments_lexer": "ipython3",
   "version": "3.8.3"
  }
 },
 "nbformat": 4,
 "nbformat_minor": 4
}
