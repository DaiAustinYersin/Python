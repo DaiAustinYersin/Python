{
 "cells": [
  {
   "cell_type": "code",
   "execution_count": 17,
   "metadata": {},
   "outputs": [
    {
     "name": "stdout",
     "output_type": "stream",
     "text": [
      "                    Bai 7: List, Tuple, Dictionary, Set                    \n",
      "                                 28/05/2021                                \n"
     ]
    }
   ],
   "source": [
    "print(\"Bai 7: List, Tuple, Dictionary, Set\".center(75,' '))\n",
    "print(\"28/05/2021\".center(75,' '))"
   ]
  },
  {
   "cell_type": "code",
   "execution_count": 7,
   "metadata": {},
   "outputs": [
    {
     "name": "stdout",
     "output_type": "stream",
     "text": [
      "[1, 3, 5]\n"
     ]
    }
   ],
   "source": [
    "lst = [1,2,3,4,5,6]\n",
    "myLst = lst[::2]\n",
    "print(myLst)"
   ]
  },
  {
   "cell_type": "code",
   "execution_count": 8,
   "metadata": {},
   "outputs": [
    {
     "name": "stdout",
     "output_type": "stream",
     "text": [
      "False\n"
     ]
    }
   ],
   "source": [
    "myNum = 7 in lst\n",
    "print(myNum)"
   ]
  },
  {
   "cell_type": "code",
   "execution_count": null,
   "metadata": {},
   "outputs": [],
   "source": [
    "#del: xóa phần từ theo index\n",
    "#append\n",
    "#insert\n",
    "#count\n",
    "#extend\n",
    "#index\n",
    "#pop: lấy phần tử ra khỏi list và trả về giá trị\n",
    "#remove: xóa phần tử ra khỏi list\n",
    "#sort"
   ]
  },
  {
   "cell_type": "code",
   "execution_count": 21,
   "metadata": {},
   "outputs": [
    {
     "name": "stdout",
     "output_type": "stream",
     "text": [
      "[13, 9, 7, 6, 2]\n",
      "[9, 7, 2, 6, 13]\n"
     ]
    }
   ],
   "source": [
    "a = [13,6,2,7,9]\n",
    "print(sorted(a,reverse=True))\n",
    "a.reverse()\n",
    "print(a)"
   ]
  },
  {
   "cell_type": "code",
   "execution_count": 23,
   "metadata": {
    "scrolled": true
   },
   "outputs": [
    {
     "name": "stdout",
     "output_type": "stream",
     "text": [
      "Nhập phần tử: 1\n",
      "Bạn có muốn nhập tiếp không? (1: có; 0: không) 1\n",
      "Nhập phần tử: 1\n",
      "Bạn có muốn nhập tiếp không? (1: có; 0: không) 1\n",
      "Nhập phần tử: 2\n",
      "Bạn có muốn nhập tiếp không? (1: có; 0: không) 2\n",
      "Nhập phần tử: 1\n",
      "Bạn có muốn nhập tiếp không? (1: có; 0: không) 0\n",
      "[1, 1, 2, 1]\n"
     ]
    }
   ],
   "source": [
    "lst1 = []\n",
    "kt = True\n",
    "while kt:\n",
    "    pt = eval(input(\"Nhập phần tử: \"))\n",
    "    lst1.append(pt)\n",
    "    kt = eval(input(\"Bạn có muốn nhập tiếp không? (1: có; 0: không) \")) #1: True; 0: False\n",
    "print(lst1)"
   ]
  },
  {
   "cell_type": "code",
   "execution_count": 27,
   "metadata": {},
   "outputs": [
    {
     "name": "stdout",
     "output_type": "stream",
     "text": [
      "Input your animal: seagull\n",
      "4\n"
     ]
    }
   ],
   "source": [
    "# Bài tập 7.1: List of animal\n",
    "# Viết chương trình tìm thú trong vườn thú với yêu cầu sau:\n",
    "# - Tạo ra một list có các con thú.\n",
    "# - Nhập vào một con thú cần tìm\n",
    "# => Chương trình in ra danh sách các con thú,\n",
    "#số lượng các con thú và kết quả tìm kiếm con thú\n",
    "#(Con thú cần tìm có/không có trong list).\n",
    "list_animal = ['lion','tiger','deer','crocodile','seagull']\n",
    "find = input(\"Input your animal: \")\n",
    "# i = list_animal.index(find)\n",
    "# print(i)"
   ]
  },
  {
   "cell_type": "code",
   "execution_count": 5,
   "metadata": {},
   "outputs": [
    {
     "name": "stdout",
     "output_type": "stream",
     "text": [
      "Nhập số cho list: 1\n",
      "Bạn có muốn nhập tiếp hay không? (Có: 1; Không: 0)2\n",
      "Nhập số cho list: 3\n",
      "Bạn có muốn nhập tiếp hay không? (Có: 1; Không: 0)1\n",
      "Nhập số cho list: 2\n",
      "Bạn có muốn nhập tiếp hay không? (Có: 1; Không: 0)3\n",
      "Nhập số cho list: 1\n",
      "Bạn có muốn nhập tiếp hay không? (Có: 1; Không: 0)2\n",
      "Nhập số cho list: 3\n",
      "Bạn có muốn nhập tiếp hay không? (Có: 1; Không: 0)0\n",
      "[1, 3, 2, 1, 3]\n",
      "Tổng các phần tử trong list: 10\n"
     ]
    }
   ],
   "source": [
    "# Bài tập 7.2: List numbers 1\n",
    "# Viết chương trình xử lý list số theo các yêu cầu sau:\n",
    "\n",
    "# Yêu cầu 1:\n",
    "# - Tạo list số: Cho phép người dùng lần lượt nhập các phần tử số cho list cho đến khi không muốn nhập nữa.\n",
    "# - Chương trình sẽ :\n",
    "# + In ra list các số vừa nhập.\n",
    "# + Tính tổng các phần tử trong list.\n",
    "myList = []\n",
    "sum = 0\n",
    "bol = True\n",
    "while bol:\n",
    "    n = eval(input(\"Nhập số cho list: \"))\n",
    "    myList.append(n)\n",
    "    sum += n\n",
    "    bol = eval(input(\"Bạn có muốn nhập tiếp hay không? (Có: 1; Không: 0)\"))\n",
    "print(myList)\n",
    "print(\"Tổng các phần tử trong list:\",sum)"
   ]
  },
  {
   "cell_type": "code",
   "execution_count": 10,
   "metadata": {},
   "outputs": [
    {
     "name": "stdout",
     "output_type": "stream",
     "text": [
      "Nhập một số cho x: 2\n",
      "2 xuất hiện 1 lần trong list\n",
      "2 không lớn hơn tất cả các số trong list\n",
      "Các số lớn hơn 2 là: [3, 3]\n"
     ]
    }
   ],
   "source": [
    "# Yêu cầu 2:\n",
    "# - Người dùng nhập vào một số x cần tìm\n",
    "# - Chương trình sẽ cho biết :\n",
    "# + x có xuất hiện trong list hay không? Nếu có thì cho biết x xuất hiện bao nhiêu lần?\n",
    "# + x có lớn hơn tất cả các số trong list không?\n",
    "# + Nếu không thì x nhỏ hơn những số nào trong list? (In ra tất cả các số lớn hơn x)\n",
    "x = eval(input(\"Nhập một số cho x: \"))\n",
    "print(f'{x} xuất hiện {myList.count(x)} lần trong list')\n",
    "if max(myList) < x:\n",
    "    print(f'{x} lớn hơn tất cả các số trong list')\n",
    "else:\n",
    "    print(f'{x} không lớn hơn tất cả các số trong list')\n",
    "bigger = []\n",
    "for i in myList:\n",
    "    if x < i:\n",
    "        bigger.append(i)\n",
    "print(f'Các số lớn hơn {x} là:',bigger)"
   ]
  },
  {
   "cell_type": "code",
   "execution_count": 30,
   "metadata": {},
   "outputs": [
    {
     "name": "stdout",
     "output_type": "stream",
     "text": [
      "Nhập số: 0\n",
      "Bạn có muốn nhập tiếp hay không? (1: có; 0: không)1\n",
      "Nhập số: 2\n",
      "Bạn có muốn nhập tiếp hay không? (1: có; 0: không)1\n",
      "Nhập số: 1\n",
      "Bạn có muốn nhập tiếp hay không? (1: có; 0: không)3\n",
      "Nhập số: 3\n",
      "Bạn có muốn nhập tiếp hay không? (1: có; 0: không)7\n",
      "Nhập số: 7\n",
      "Bạn có muốn nhập tiếp hay không? (1: có; 0: không)5\n",
      "Nhập số: 5\n",
      "Bạn có muốn nhập tiếp hay không? (1: có; 0: không)9\n",
      "Nhập số: 9\n",
      "Bạn có muốn nhập tiếp hay không? (1: có; 0: không)6\n",
      "Nhập số: 6\n",
      "Bạn có muốn nhập tiếp hay không? (1: có; 0: không)-3\n",
      "Nhập số: -3\n",
      "Bạn có muốn nhập tiếp hay không? (1: có; 0: không)-6\n",
      "Nhập số: -6\n",
      "Bạn có muốn nhập tiếp hay không? (1: có; 0: không)0\n",
      "[0, 2, 1, 3, 7, 5, 9, 6, -3, -6]\n"
     ]
    }
   ],
   "source": [
    "# Bài tập 7.3: List numbers 2\n",
    "# Viết chương trình thực hiện xử lý list số như sau:\n",
    "\n",
    "# - Tạo list số: Cho phép người dùng lần lượt nhập các phần tử số cho list cho đến khi không muốn nhập nữa.\n",
    "# - Chương trình sẽ thực hiện những công việc sau:\n",
    "# + In ra list các số vừa nhập.\n",
    "# + Tìm và in ra tất cả các số nguyên tố có trong list.\n",
    "# + Tính trung bình cộng của các phần tử âm/ phần tử dương trong list\n",
    "# + Tìm giá trị chẵn lớn nhất/ giá trị lẻ nhỏ nhất trong list\n",
    "# + Sắp xếp list theo giá trị tăng dần\n",
    "\n",
    "myList = []\n",
    "bol = True\n",
    "while bol:\n",
    "    n = eval(input(\"Nhập số: \"))\n",
    "    myList.append(n)\n",
    "    bol = eval(input(\"Bạn có muốn nhập tiếp hay không? (1: có; 0: không)\"))\n",
    "print(myList)"
   ]
  },
  {
   "cell_type": "code",
   "execution_count": 44,
   "metadata": {},
   "outputs": [
    {
     "name": "stdout",
     "output_type": "stream",
     "text": [
      "Các số nguyên tố có trong list là: [2, 3, 7, 5]\n",
      "Trung bình cộng các phần tử dương: 4.714285714285714\n",
      "Trung bình cộng các phần tử âm: -4.5\n"
     ]
    }
   ],
   "source": [
    "prime = []\n",
    "for i in myList:\n",
    "    if i > 1:\n",
    "        for j in range(2,i):\n",
    "            if i % j == 0:\n",
    "                break\n",
    "        else:\n",
    "            prime.append(i)\n",
    "print(\"Các số nguyên tố có trong list là:\",prime)\n",
    "\n",
    "sum_am, sum_duong, dem_am, dem_duong = 0,0,0,0\n",
    "for i in myList:\n",
    "    if i > 0:\n",
    "        sum_duong += i\n",
    "        dem_duong += 1\n",
    "    elif i < 0:\n",
    "        sum_am += i\n",
    "        dem_am += 1\n",
    "    else:\n",
    "        continue\n",
    "print(f'Trung bình cộng các phần tử dương: {sum_duong/dem_duong}')\n",
    "print(f'Trung bình cộng các phần tử âm: {sum_am/dem_am}')\n"
   ]
  },
  {
   "cell_type": "code",
   "execution_count": 29,
   "metadata": {},
   "outputs": [
    {
     "name": "stdout",
     "output_type": "stream",
     "text": [
      "('python', 'java', 'c#', 'ruby', 'c', 'c++', 'html', 'css', 'js', 'go')\n",
      "Nhập index dương: 2\n",
      "c#\n",
      "Nhập index âm: -3\n",
      "css\n",
      "Nhập chuỗi cần tìm: golang\n",
      "golang xuất hiện 0 trong myTpl\n"
     ]
    }
   ],
   "source": [
    "# Bài tập 7.4: Tuple strings\n",
    "# Yêu cầu 1:\n",
    "# - Tạo 1 tuple có 10 phần tử chuỗi bất kỳ\n",
    "# - Chương trình sẽ in tuple vừa tạo\n",
    "myTpl = ('python','java','c#','ruby','c','c++','html','css','js','go')\n",
    "print(myTpl)\n",
    "# Yêu cầu 2:\n",
    "# - Nhập index dương (0 <= index < 10), index âm (-1 >= index >= -9)\n",
    "# - Chương trình sẽ in giá trị của phần tử trong tuple có index dương và index âm đã nhập\n",
    "a = eval(input(\"Nhập index dương: \"))\n",
    "print(myTpl[a])\n",
    "b = eval(input(\"Nhập index âm: \"))\n",
    "print(myTpl[b])\n",
    "# Yêu cầu 3:\n",
    "# - Nhập chuỗi cần tìm s_find\n",
    "# - Chương trình sẽ tìm và đếm số lần xuất hiện của s_find trong tuple\n",
    "s_find = input(\"Nhập chuỗi cần tìm: \")\n",
    "print(f'{s_find} xuất hiện {myTpl.count(s_find)} trong myTpl')"
   ]
  },
  {
   "cell_type": "code",
   "execution_count": 28,
   "metadata": {},
   "outputs": [
    {
     "name": "stdout",
     "output_type": "stream",
     "text": [
      "a = (13, 6, 7, 9)\n",
      "b = (2002, 2020, 1234, 5678)\n",
      "c = (13, 6, 7, 9, 2002, 2020, 1234, 5678)\n",
      "d = [6, 7, 9, 13, 1234, 2002, 2020, 5678]\n",
      "Phần tử thứ 3 của d: 13\n",
      "3 phần tử cuối cùng của d: [2002, 2020, 5678]\n"
     ]
    }
   ],
   "source": [
    "# Bài tập 7.5: Tuple numbers\n",
    "# - Người dùng sẽ tạo:\n",
    "# + 1 tuple a chứa 4 số nguyên dương đầu tiên\n",
    "a = (13,6,7,9)\n",
    "print('a =',a)\n",
    "# + 1 tuple b chứa 4 số nguyên dương tiếp theo\n",
    "b = (2002,2020,1234,5678)\n",
    "print('b =',b)\n",
    "# - Chương trình sẽ:\n",
    "# + Tạo 1 tuple c là sự kết hợp của các phần tử trong tuple a và b\n",
    "c = a + b\n",
    "print('c =',c)\n",
    "# + Tạo 1 tuple d từ tuple c với các phần tử được sắp xếp\n",
    "d = sorted(c)\n",
    "print('d =',d)\n",
    "# + In phần tử thứ 3 của d\n",
    "print('Phần tử thứ 3 của d:',d[3])\n",
    "# + In 3 phần tử cuối cùng của d\n",
    "print(\"3 phần tử cuối cùng của d:\",d[-3:])"
   ]
  },
  {
   "cell_type": "code",
   "execution_count": 42,
   "metadata": {
    "scrolled": true
   },
   "outputs": [
    {
     "name": "stdout",
     "output_type": "stream",
     "text": [
      "Nhập n: 15\n",
      "[17, 92, 13, 69, 69, 31, 95, 23, 89, 16, 53, 39, 34, 89, 49]\n",
      "Các số nguyên tố có trong list là: [17, 13, 31, 23, 89, 53, 89]\n",
      "Tổng các số nguyên tố trong list: 315\n"
     ]
    }
   ],
   "source": [
    "# Bài tập 12.10: List ngẫu nhiên\n",
    "# Viết chương trình Tính tổng các số nguyên tố trong list có n phần tử, mỗi phần tử có giá trị ngẫu nhiên.\n",
    "# - Sử dụng console\n",
    "# - Hãy viết chương trình cho phép người dùng nhập vào số nguyên n là số phần tử cho list.\n",
    "# => Chương trình tự động phát sinh giá trị (giá trị trong khoảng 0 - 100) cho các phần tử trong list => Xuất list\n",
    "# - Tính tổng các số nguyên tố trong list\n",
    "# - Gợi ý: Dùng hàm randrange ([start,] stop [,step]) để tạo số ngẫu nhiên\n",
    "import random\n",
    "n = int(input(\"Nhập n: \"))\n",
    "lst = []\n",
    "for i in range(1,n+1):\n",
    "    a = random.randrange(0,100)\n",
    "    lst.append(a)\n",
    "print(lst)\n",
    "sum = 0\n",
    "prime = []\n",
    "for i in lst:\n",
    "    if i > 1:\n",
    "        for j in range(2,i):\n",
    "            if i % j == 0:\n",
    "                break\n",
    "        else:\n",
    "            prime.append(i)\n",
    "            sum += i\n",
    "print(f'Các số nguyên tố có trong list là: {prime}')\n",
    "print(f'Tổng các số nguyên tố trong list: {sum}')"
   ]
  },
  {
   "cell_type": "code",
   "execution_count": 48,
   "metadata": {},
   "outputs": [
    {
     "name": "stdout",
     "output_type": "stream",
     "text": [
      "[7, 7, 6, 3, 7]\n",
      "['7 & 1', '7 & 1', '6 & 1', '3 & 1', '7 & 1']\n"
     ]
    }
   ],
   "source": [
    "# Bài tập 12.11: List – cặp số\n",
    "# Nhập vào một list có 5 phần tử. Xuất list vừa tạo. Ví dụ: 2, 7, 1, 4, 8. Sau đó:\n",
    "# - Xác định xem có cặp số nào trong các số đó có quan hệ chia hết hay không? Nếu có thì in ra tất cả các cặp số đó.\n",
    "#Ví dụ: cặp 2 & 1, 2 & 4, 2 & 8, 7 & 1, 1 & 4, 4 & 8, 1 & 8\n",
    "# - Xác định xem có cặp số nào trong các số đó có quan hệ số này gấp 2 lần số kia hay không? Nếu có thì in ra tất cả các cặp số đó.\n",
    "# Ví dụ: cặp 2 & 1, 2 & 4, 4 & 8\n",
    "# - Xác định xem có cặp số nào trong các số đó mà tổng hai số bằng 8 hay không? Nếu có thì in ra tất cả các cặp số đó.\n",
    "# Ví dụ: cặp 7 & 1\n",
    "# - Gợi ý: Duyệt list\n",
    "import random\n",
    "myList = []\n",
    "myStr = ''\n",
    "for i in range (0,5):\n",
    "    a = random.randrange(0,9)\n",
    "    myList.append(a)\n",
    "print(myList)\n",
    "lst1 = []\n",
    "for i in myList:\n",
    "    for j in (1,i+1):\n",
    "        if i % j == 0:\n",
    "            myStr = f'{i} & {j}'\n",
    "            lst1.append(myStr)\n",
    "print(lst1)"
   ]
  },
  {
   "cell_type": "code",
   "execution_count": 2,
   "metadata": {},
   "outputs": [
    {
     "name": "stdout",
     "output_type": "stream",
     "text": [
      "List1: [2, 6, 4, 7, 13, 6, 20, 2]\n",
      "List2: [4, 2, 6, 45, 32, 12, 7, 5]\n"
     ]
    }
   ],
   "source": [
    "# Viết chương trình:\n",
    "# - Tạo list1 có số lượng phần tử tùy ý, giá trị mỗi phần tử kiểu số\n",
    "list1 = [2,6,4,7,13,6,20,2]\n",
    "# - Tạo list2 có số lượng phần tử tùy ý, giá trị mỗi phần tử kiểu số\n",
    "list2 = [4,2,6,45,32,12,7,5]\n",
    "# - In list1, list2\n",
    "print('List1:', list1)\n",
    "print('List2:', list2)\n",
    "\n",
    "# - Tạo list3 từ list1 và list2 với những phần tử trong list3 được tạo thành từ những phần tử vừa có trong list1 vừa có trong list2\n",
    "for i in zip(list1,list2)\n",
    "# - Tạo list4 từ list1 và list2 với những phần tử trong list4 được tạo thành từ những phần tử chỉ có trong list1 và chỉ có trong list2\n",
    "# - Gợi ý:\n",
    "# + list1 = [1, 2, 3, 4]\n",
    "# + list2 = [1, 2]\n",
    "# + print(list(set(list1) - set(list2)) + list(set(list2) - set(list1)))"
   ]
  },
  {
   "cell_type": "code",
   "execution_count": 1,
   "metadata": {},
   "outputs": [],
   "source": [
    "a = [1,4,7,8,12,9]"
   ]
  },
  {
   "cell_type": "code",
   "execution_count": 3,
   "metadata": {},
   "outputs": [
    {
     "name": "stdout",
     "output_type": "stream",
     "text": [
      "[4, 8, 12]\n"
     ]
    }
   ],
   "source": [
    "b = []\n",
    "for x in a:\n",
    "    if x%2==0:\n",
    "        b.append(x)\n",
    "print(b)"
   ]
  },
  {
   "cell_type": "code",
   "execution_count": 5,
   "metadata": {},
   "outputs": [
    {
     "name": "stdout",
     "output_type": "stream",
     "text": [
      "[4, 8, 12]\n"
     ]
    }
   ],
   "source": [
    "b = [x for x in a if x%2==0] #[x for x in list if dk]\n",
    "print(b)"
   ]
  },
  {
   "cell_type": "code",
   "execution_count": 8,
   "metadata": {},
   "outputs": [
    {
     "name": "stdout",
     "output_type": "stream",
     "text": [
      "[[0, 0], [0, 1], [1, 0], [1, 1]]\n"
     ]
    }
   ],
   "source": [
    "b = [[x,y] for x in range(2) for y in range(2)]\n",
    "print(b)"
   ]
  },
  {
   "cell_type": "code",
   "execution_count": 11,
   "metadata": {},
   "outputs": [
    {
     "name": "stdout",
     "output_type": "stream",
     "text": [
      "(1, 4, 7)\n",
      "(2, 5, 8)\n"
     ]
    }
   ],
   "source": [
    "a = [1,2,3]\n",
    "b = [4,5,6]\n",
    "c = [7,8]\n",
    "for x in zip(a,b,c):\n",
    "    print(x)"
   ]
  },
  {
   "cell_type": "code",
   "execution_count": 12,
   "metadata": {},
   "outputs": [
    {
     "name": "stdout",
     "output_type": "stream",
     "text": [
      "[(1, 4, 7), (2, 5, 8)]\n"
     ]
    }
   ],
   "source": [
    "print(list(zip(a,b,c)))"
   ]
  },
  {
   "cell_type": "code",
   "execution_count": 13,
   "metadata": {},
   "outputs": [
    {
     "name": "stdout",
     "output_type": "stream",
     "text": [
      "1 - 4 - 7\n",
      "2 - 5 - 8\n"
     ]
    }
   ],
   "source": [
    "for x in zip(a,b,c):\n",
    "    print(x[0],'-',x[1],'-',x[2])"
   ]
  },
  {
   "cell_type": "code",
   "execution_count": 14,
   "metadata": {},
   "outputs": [
    {
     "name": "stdout",
     "output_type": "stream",
     "text": [
      "1 - 4 - 7\n",
      "2 - 5 - 8\n"
     ]
    }
   ],
   "source": [
    "for x,y,z in zip(a,b,c):\n",
    "    print(x,'-',y,'-',z)"
   ]
  }
 ],
 "metadata": {
  "kernelspec": {
   "display_name": "Python 3",
   "language": "python",
   "name": "python3"
  },
  "language_info": {
   "codemirror_mode": {
    "name": "ipython",
    "version": 3
   },
   "file_extension": ".py",
   "mimetype": "text/x-python",
   "name": "python",
   "nbconvert_exporter": "python",
   "pygments_lexer": "ipython3",
   "version": "3.8.3"
  }
 },
 "nbformat": 4,
 "nbformat_minor": 4
}
