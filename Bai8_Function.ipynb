{
 "cells": [
  {
   "cell_type": "code",
   "execution_count": 5,
   "metadata": {},
   "outputs": [
    {
     "name": "stdout",
     "output_type": "stream",
     "text": [
      "                               Function                               \n"
     ]
    }
   ],
   "source": [
    "print(\"Function\".center(70,' '))"
   ]
  },
  {
   "cell_type": "code",
   "execution_count": 1,
   "metadata": {},
   "outputs": [],
   "source": [
    "def factorial(n):\n",
    "    f = 1\n",
    "    for i in range(1,n+1):\n",
    "        f *= i\n",
    "    return f"
   ]
  },
  {
   "cell_type": "code",
   "execution_count": 3,
   "metadata": {},
   "outputs": [
    {
     "name": "stdout",
     "output_type": "stream",
     "text": [
      "32\n"
     ]
    }
   ],
   "source": [
    "s = factorial(2) + factorial(3) + factorial(4)\n",
    "print(s)"
   ]
  },
  {
   "cell_type": "code",
   "execution_count": 7,
   "metadata": {},
   "outputs": [],
   "source": [
    "def tinh_hcn(a,b):\n",
    "    cv = (a + b) * 2\n",
    "    dt = a * b\n",
    "    return cv,dt"
   ]
  },
  {
   "cell_type": "code",
   "execution_count": 10,
   "metadata": {},
   "outputs": [
    {
     "name": "stdout",
     "output_type": "stream",
     "text": [
      "38 78\n"
     ]
    }
   ],
   "source": [
    "cv,dt = tinh_hcn(13,6)\n",
    "print(cv,dt)"
   ]
  },
  {
   "cell_type": "code",
   "execution_count": 21,
   "metadata": {},
   "outputs": [],
   "source": [
    "def tinhTong(*b):\n",
    "    s = 0\n",
    "    for i in b:\n",
    "        s += i\n",
    "    return s"
   ]
  },
  {
   "cell_type": "code",
   "execution_count": 23,
   "metadata": {},
   "outputs": [
    {
     "name": "stdout",
     "output_type": "stream",
     "text": [
      "0\n",
      "27\n"
     ]
    }
   ],
   "source": [
    "print(tinhTong())\n",
    "print(tinhTong(2,3,4,5,6,7))"
   ]
  },
  {
   "cell_type": "code",
   "execution_count": 17,
   "metadata": {},
   "outputs": [
    {
     "name": "stdout",
     "output_type": "stream",
     "text": [
      "1 2 3 4 5\n"
     ]
    }
   ],
   "source": [
    "lst = [1,2,3,4,5]\n",
    "print(*lst)"
   ]
  },
  {
   "cell_type": "code",
   "execution_count": 19,
   "metadata": {},
   "outputs": [
    {
     "name": "stdout",
     "output_type": "stream",
     "text": [
      "15\n"
     ]
    }
   ],
   "source": [
    "print(tinhTong(*lst))"
   ]
  },
  {
   "cell_type": "code",
   "execution_count": 34,
   "metadata": {},
   "outputs": [
    {
     "name": "stdout",
     "output_type": "stream",
     "text": [
      "Nhập năm: 2017\n",
      "Năm 2017 âm lịch là năm Đinh Dậu\n"
     ]
    }
   ],
   "source": [
    "# Bài tập 8.1: Tính năm âm lịch\n",
    "# Dựa vào quy tắc xử lý theo file đính kèm, học viên viết chương trình tính năm âm lịch từ năm dương lịch.\n",
    "# Khi người dùng nhập vào năm dương lịch (input) => Chương trình sẽ hiển thị năm âm lịch (output)\n",
    "# Hướng dẫn:\n",
    "# + Viết phương thức tinh_can(nam) có kết quả trả về là chuỗi can, tinh_chi(nam) có kết quả trả về là chuỗi chi\n",
    "# + Sử dụng cấu trúc if...elif...else để giải quyết bài toán trên.\n",
    "\n",
    "dict_can = {0: 'Canh', 1: 'Tân', 3: 'Nhâm', 4: 'Giáp', 5: 'Ất', 6: 'Bính', 7: 'Đinh', 8: 'Mậu', 9: 'Kỷ'}\n",
    "dict_chi = {0: 'Thân', 1: 'Dậu', 3: 'Tuất', 4: 'Hợi', 5: 'Tý', 6: 'Sửu', 7: 'Dần', 8: 'Mão', 9: 'Thìn', 9: 'Tỵ', 10: 'Ngọ', 11: 'Mùi'}\n",
    "\n",
    "def lay_can(year):\n",
    "    can = ''\n",
    "    mod = year % 10\n",
    "    for i in dict_can.keys():\n",
    "        if mod == i:\n",
    "            can = dict_can.get(i)\n",
    "    return can\n",
    "def lay_chi(year):\n",
    "    chi = ''\n",
    "    mod = year % 12\n",
    "    for i in dict_chi.keys():\n",
    "        if mod == i:\n",
    "            chi = dict_chi.get(i)\n",
    "    return chi\n",
    "\n",
    "year = int(input(\"Nhập năm: \"))\n",
    "print(f'Năm {year} âm lịch là năm {lay_can(year)} {lay_chi(year)}')"
   ]
  },
  {
   "cell_type": "code",
   "execution_count": 2,
   "metadata": {},
   "outputs": [
    {
     "name": "stdout",
     "output_type": "stream",
     "text": [
      "---Kết quả của từng học viên phòng gym---\n",
      "Mã HV \t Họ và tên \t Chỉ số BMI \t Đánh giá BMI\n",
      "HV01 Dương Thu Thủy (24.977043158861342, 'Bình thường')\n",
      "HV02 Nguyễn Văn Hưng (22.89307408198773, 'Bình thường')\n",
      "HV03 Lê Thái Châu (28.634039444850252, 'Thừa cân')\n",
      "HV04 Nguyễn Trọng Hoàng (23.458562375266975, 'Bình thường')\n",
      "HV05 Nguyễn Tú Trinh (20.62970677775997, 'Bình thường')\n",
      "HV06 Đào Thùy Linh (24.218749999999996, 'Bình thường')\n",
      "HV07 Lê Văn Linh (21.146319909102385, 'Bình thường')\n",
      "HV08 Nguyễn Phúc Ngân (16.975308641975307, 'Gầy')\n",
      "HV09 Trần Nhựt Khánh (18.49112426035503, 'Gầy')\n",
      "HV10 Trịnh Duy Thắng (23.030045351473927, 'Bình thường')\n",
      "HV11 Thiều Thu Nga (21.208448753462605, 'Bình thường')\n"
     ]
    }
   ],
   "source": [
    "# Bài tập 8.2: Tính chỉ số BMI\n",
    "# Viết chương trình tính chỉ số BMI, và đánh giá BMI của các học viên phòng Gym.\n",
    "# Người dùng tạo ra một danh sách học viên phòng gym, gồm các thông tin: MãHV, Họ và tên, Cân nặng (kg), Chiều cao (m).\n",
    "# Chương trình sẽ hiển thị chỉ số BMI kèm theo đánh giá cho từng học viên của phòng gym.\n",
    "# Cách tính chỉ số BMI như sau:\n",
    "#  BMI = Cân nặng / (Chiều cao * Chiều cao)\n",
    "#  Bảng đánh giá BMI:\n",
    "# • Gầy: <18.5\n",
    "# • Bình thường: 18.5 – 24.99\n",
    "# • Thừa cân: >=25\n",
    "\n",
    "Danh_sach_HV_phong_gym = {'HV01': ['Dương Thu Thủy', 68, 1.65], 'HV02': ['Nguyễn Văn Hưng', 75, 1.81], 'HV03': ['Lê Thái Châu', 98, 1.85], 'HV04': ['Nguyễn Trọng Hoàng', 67, 1.69], 'HV05': ['Nguyễn Tú Trinh', 51.5, 1.58], 'HV06': ['Đào Thùy Linh', 62, 1.60], 'HV07': ['Lê Văn Linh', 67, 1.78], 'HV08': ['Nguyễn Phúc Ngân', 55, 1.80], 'HV09': ['Trần Nhựt Khánh', 45, 1.56], 'HV10': ['Trịnh Duy Thắng', 65, 1.68], 'HV11': ['Thiều Thu Nga', 49, 1.52]}\n",
    "\n",
    "import math\n",
    "def tinh_danh_gia_bmi(weight,height):\n",
    "    result = ''\n",
    "    bmi = weight / math.pow(height,2)\n",
    "    if bmi < 18.5:\n",
    "        result = 'Gầy'\n",
    "    elif 18.5 <= bmi <= 24.99:\n",
    "        result = 'Bình thường'\n",
    "    else:\n",
    "        result = 'Thừa cân'\n",
    "    return bmi,result\n",
    "\n",
    "print('---Kết quả của từng học viên phòng gym---')\n",
    "print('Mã HV \\t Họ và tên \\t Chỉ số BMI \\t Đánh giá BMI')\n",
    "for key, value in Danh_sach_HV_phong_gym.items():\n",
    "    print('{} {} {}'.format(key, value[0], tinh_danh_gia_bmi(value[1],value[2])))"
   ]
  },
  {
   "cell_type": "code",
   "execution_count": 80,
   "metadata": {},
   "outputs": [
    {
     "name": "stdout",
     "output_type": "stream",
     "text": [
      "Nhập n: 12\n",
      "0 1 1 2 3 5 8 13 21 34 55 89 "
     ]
    }
   ],
   "source": [
    "# Bài tập 8.3: Bài dãy Fibonacci\n",
    "# Dãy Fibonacci là dãy vô hạn các số tự nhiên bắt đầu bằng hai phần tử 0 và 1, có quy luật khá đơn giản: “Phần tử đứng sau bằng tổng hai phần tử trước đó cộng lại”.\n",
    "\n",
    "# Trong bài tập này, Học viên viết lại bài tập Dãy Fibonacci bằng cách xây dựng hàm (Dùng kỹ thuật đệ quy)\n",
    "# Người dùng nhập vào giá trị n (Input)\n",
    "# Chương trình sẽ in ra dãy số Fibonacci đến n (Output)\n",
    "\n",
    "n = int(input(\"Nhập n: \"))\n",
    "def fibonaci(n):\n",
    "    for i in range(1, n+1):\n",
    "        if n == 1:\n",
    "            return 0\n",
    "        elif n == 2:\n",
    "            return 1\n",
    "        else:\n",
    "            return fibonaci(n-1) + fibonaci(n-2)\n",
    "\n",
    "def day_fibonaci(m):\n",
    "    for i in range(1, m+1):\n",
    "        print(fibonaci(i), end = \" \")\n",
    "day_fibonaci(n)"
   ]
  },
  {
   "cell_type": "code",
   "execution_count": 43,
   "metadata": {},
   "outputs": [],
   "source": [
    "#Đệ quy\n",
    "def gt(n):\n",
    "    if n == 0:\n",
    "        return 1\n",
    "    else:\n",
    "        return gt(n-1) * n"
   ]
  },
  {
   "cell_type": "code",
   "execution_count": 44,
   "metadata": {},
   "outputs": [
    {
     "name": "stdout",
     "output_type": "stream",
     "text": [
      "24\n"
     ]
    }
   ],
   "source": [
    "print(gt(4))"
   ]
  },
  {
   "cell_type": "code",
   "execution_count": 46,
   "metadata": {},
   "outputs": [],
   "source": [
    "def tong(n):\n",
    "    if n == 1:\n",
    "        return 1\n",
    "    else:\n",
    "        return tong(n-1) + n"
   ]
  },
  {
   "cell_type": "code",
   "execution_count": 47,
   "metadata": {},
   "outputs": [
    {
     "name": "stdout",
     "output_type": "stream",
     "text": [
      "6\n"
     ]
    }
   ],
   "source": [
    "print(tong(3))"
   ]
  },
  {
   "cell_type": "code",
   "execution_count": 45,
   "metadata": {},
   "outputs": [],
   "source": [
    "n = 10\n",
    "def fibonaci(n):\n",
    "    if n == 1:\n",
    "        return 0\n",
    "    elif n == 2:\n",
    "        return 1\n",
    "    else:\n",
    "        return fibonaci(n-1) + fibonaci(n-2)"
   ]
  },
  {
   "cell_type": "code",
   "execution_count": 46,
   "metadata": {
    "scrolled": false
   },
   "outputs": [
    {
     "name": "stdout",
     "output_type": "stream",
     "text": [
      "0 1 1 2 3 5 8 13 21 34 "
     ]
    }
   ],
   "source": [
    "def day_fibonaci(m):\n",
    "    for i in range(1, m+1):\n",
    "        print(fibonaci(i), end = \" \")\n",
    "day_fibonaci(n)"
   ]
  },
  {
   "cell_type": "code",
   "execution_count": 8,
   "metadata": {},
   "outputs": [
    {
     "data": {
      "text/plain": [
       "[1, 2, 5, 7, 4]"
      ]
     },
     "execution_count": 8,
     "metadata": {},
     "output_type": "execute_result"
    }
   ],
   "source": [
    "# Bài tập 8.4: Delete Starting Even Numbers\n",
    "# Viết chương trình thực hiện xóa số chẵn xuất hiện đầu tiên của list số, và in ra kết quả cuối cùng của list số.\n",
    "lst = [1,4,2,5,7,4]\n",
    "\n",
    "def loai_chan(dsach):\n",
    "    for i in dsach:\n",
    "        if i % 2 == 0:\n",
    "            dsach.pop(dsach.index(i))\n",
    "            break\n",
    "    return dsach\n",
    "loai_chan(lst)"
   ]
  },
  {
   "cell_type": "code",
   "execution_count": 4,
   "metadata": {},
   "outputs": [
    {
     "data": {
      "text/plain": [
       "[4, 6, 7]"
      ]
     },
     "execution_count": 4,
     "metadata": {},
     "output_type": "execute_result"
    }
   ],
   "source": [
    "# Bài tập 8.5: Same Values\n",
    "# Viết chương trình kiểm tra xem có những vị trí nào có giá trị giống nhau trong hai list số, và in ra kết quả.\n",
    "list1 = [4,2,6,2,7,8,2]\n",
    "list2 = [9,5,6,9,7,3,4]\n",
    "def sameValues(lst1,lst2):\n",
    "    lst = []\n",
    "    for i in lst1:\n",
    "        for j in lst2:\n",
    "            if j == i:\n",
    "                lst.append(i)\n",
    "    return lst\n",
    "sameValues(list1,list2)"
   ]
  },
  {
   "cell_type": "code",
   "execution_count": 47,
   "metadata": {},
   "outputs": [
    {
     "name": "stdout",
     "output_type": "stream",
     "text": [
      "4\n",
      "1\n"
     ]
    }
   ],
   "source": [
    "# Bài tập 8.6: Count X\n",
    "# Viết chương trình đếm và in ra số lần xuất hiện của ký tự x trong từ.\n",
    "def count_char_x(word, x):\n",
    "    count = 0\n",
    "    for i in word:\n",
    "        if i == x:\n",
    "            count+=1\n",
    "    return count\n",
    "# Ví dụ:\n",
    "# + Input: mississippi\n",
    "# + Output: s -> 4\n",
    "print(count_char_x(\"mississippi\", \"s\"))       # Kết quả:   4\n",
    "\n",
    "print(count_char_x(\"mississippi\", \"m\"))       # Kết quả:   1"
   ]
  },
  {
   "cell_type": "code",
   "execution_count": 50,
   "metadata": {},
   "outputs": [
    {
     "name": "stdout",
     "output_type": "stream",
     "text": [
      "[2, 4, 8, 3, 9, 27, 4, 16, 64, 5, 25, 125]\n"
     ]
    }
   ],
   "source": [
    "# Bài tập 8.7: Exponents (Lũy thừa)\n",
    "# Viết chương trình tính lũy thừa của hai list số và in ra kết quả.\n",
    "def exponents(bases,powers):\n",
    "    lst = []\n",
    "    for i in bases:\n",
    "        for j in powers:\n",
    "            lst.append(i**j)\n",
    "    return lst\n",
    "# Lưu ý: Để tính lũy thừa của một số, chúng ta sử dụng toán tử \"**\" .\n",
    "print(exponents([2, 3, 4, 5], [1, 2, 3]))  # Kết quả in ra: [2, 4, 8, 3, 9, 27, 4, 16, 64, 5, 25, 125]"
   ]
  },
  {
   "cell_type": "code",
   "execution_count": 87,
   "metadata": {},
   "outputs": [],
   "source": [
    "def vd(**a):\n",
    "    print(a)"
   ]
  },
  {
   "cell_type": "code",
   "execution_count": 88,
   "metadata": {},
   "outputs": [
    {
     "name": "stdout",
     "output_type": "stream",
     "text": [
      "{'a': 1, 'b': 7, 'c': 10}\n"
     ]
    }
   ],
   "source": [
    "vd(a = 1, b = 7, c = 10) #keywords"
   ]
  },
  {
   "cell_type": "code",
   "execution_count": 89,
   "metadata": {},
   "outputs": [],
   "source": [
    "def vd(**a):\n",
    "    for key,value in a.items():\n",
    "        print(key,'-',value)"
   ]
  },
  {
   "cell_type": "code",
   "execution_count": 90,
   "metadata": {},
   "outputs": [
    {
     "name": "stdout",
     "output_type": "stream",
     "text": [
      "a - 1\n",
      "b - 7\n",
      "c - 10\n",
      "d - 10\n"
     ]
    }
   ],
   "source": [
    "vd(a = 1, b = 7, c = 10, d = 10) #keywords"
   ]
  },
  {
   "cell_type": "code",
   "execution_count": 5,
   "metadata": {},
   "outputs": [
    {
     "data": {
      "text/plain": [
       "125.0"
      ]
     },
     "execution_count": 5,
     "metadata": {},
     "output_type": "execute_result"
    }
   ],
   "source": [
    "#Lambda\n",
    "import math\n",
    "s = lambda x,n: math.pow(math.pow(x,2) + 1,n)\n",
    "s(2,3)"
   ]
  },
  {
   "cell_type": "code",
   "execution_count": 15,
   "metadata": {},
   "outputs": [
    {
     "data": {
      "text/plain": [
       "25.0"
      ]
     },
     "execution_count": 15,
     "metadata": {},
     "output_type": "execute_result"
    }
   ],
   "source": [
    "lst = [1,2,3,4,5]\n",
    "s = lambda so: math.pow(so,2)\n",
    "s(5)"
   ]
  },
  {
   "cell_type": "code",
   "execution_count": 13,
   "metadata": {},
   "outputs": [],
   "source": [
    "def isPrime(n):\n",
    "    if n > 1:\n",
    "        for i in range(2,n):\n",
    "            if n % i == 0:\n",
    "                return False\n",
    "        else:\n",
    "            return True\n",
    "    else:\n",
    "        return False"
   ]
  },
  {
   "cell_type": "code",
   "execution_count": 10,
   "metadata": {},
   "outputs": [
    {
     "data": {
      "text/plain": [
       "[2, 4]"
      ]
     },
     "execution_count": 10,
     "metadata": {},
     "output_type": "execute_result"
    }
   ],
   "source": [
    "#filter\n",
    "lst1 = list(filter(lambda x: x % 2 == 0,lst))\n",
    "lst1"
   ]
  },
  {
   "cell_type": "code",
   "execution_count": 34,
   "metadata": {},
   "outputs": [
    {
     "data": {
      "text/plain": [
       "[5, 2, 2, 5, 3]"
      ]
     },
     "execution_count": 34,
     "metadata": {},
     "output_type": "execute_result"
    }
   ],
   "source": [
    "lst2 = list(filter(lambda x: isPrime(x),lst))\n",
    "lst2"
   ]
  },
  {
   "cell_type": "code",
   "execution_count": 17,
   "metadata": {},
   "outputs": [
    {
     "name": "stdout",
     "output_type": "stream",
     "text": [
      "Nhập bán kính: 5.75\n",
      "Nhập chiều dài: 3\n",
      "Nhập chiều rộng: 4\n",
      "Chu vi hình tròn: 36.11\n",
      "Diện tích hình tròn: 103.81625000000001\n",
      "Chu vi hcn: 14\n",
      "Diện tích hcn: 12\n"
     ]
    }
   ],
   "source": [
    "# Bài tập 8.11: Lambda\n",
    "# Học viên sử dụng biểu thức Lambda để tính Chu vi (P) và Diện tích (S) theo yêu cầu sau:\n",
    "# - Người dùng nhập vào r (bán kính), a (chiều dài), b (chiều rộng) từ bàn phím (input)\n",
    "# - Chương trình sẽ tính và in ra (output):\n",
    "# + P, S hình tròn\n",
    "# + P, S hình chữ nhật\n",
    "r = eval(input(\"Nhập bán kính: \"))\n",
    "a = eval(input(\"Nhập chiều dài: \"))\n",
    "b = eval(input(\"Nhập chiều rộng: \"))\n",
    "\n",
    "P_tron = lambda x: 2 * 3.14 * x\n",
    "print(\"Chu vi hình tròn:\", P_tron(r))\n",
    "S_tron = lambda x: 3.14 * (r**2)\n",
    "print(\"Diện tích hình tròn:\", S_tron(r))\n",
    "\n",
    "P_hcn = lambda x,y: (x + y) * 2\n",
    "print(\"Chu vi hcn:\",P_hcn(a,b))\n",
    "S_hcn = lambda x,y: x*y\n",
    "print(\"Diện tích hcn:\",S_hcn(a,b))\n",
    "# Ví dụ:\n",
    "# - Tính diện tích hình tròn : s_tron = lambda r: math.pi * math.pow(r,2)"
   ]
  },
  {
   "cell_type": "code",
   "execution_count": 33,
   "metadata": {},
   "outputs": [
    {
     "name": "stdout",
     "output_type": "stream",
     "text": [
      "Tổng các phần tử trong list: 11\n",
      "Nhập x: 4\n",
      "List các số lớn hơn x: [5, 9, 5]\n",
      "List các số nguyên tố: [5, 2, 2, 5, 3]\n",
      "Các phần tử âm trong list: [-3, -6, -7]\n",
      "Các phần tử dương trong list: [5, 9, 2, 1, 2, 5, 3]\n"
     ]
    }
   ],
   "source": [
    "# Bài tập 8.12: Map, filter, reduce\n",
    "# Học viên áp dụng các built-in function map(), reduce(), filter() cho những bài tập list, tuple của bài List – Tuple - Dictionary\n",
    "lst = [5,9,2,-3,-6,1,2,-7,5,3]\n",
    "# - Tính tổng các phần tử trong list\n",
    "from functools import reduce\n",
    "lst_reduce = reduce(lambda i1,i2: i1 + i2,lst)\n",
    "print(\"Tổng các phần tử trong list:\", lst_reduce)\n",
    "# - List các số lớn hơn x\n",
    "x = int(input(\"Nhập x: \"))\n",
    "lst_filter = list(filter(lambda i: i > x,lst))\n",
    "print(\"List các số lớn hơn x:\",lst_filter)\n",
    "# - List các số nguyên tố\n",
    "list_filter = list(filter(lambda x: isPrime(x),lst))\n",
    "print(\"List các số nguyên tố:\",list_filter)\n",
    "# - List các phần tử âm\n",
    "list_filter = list(filter(lambda x: x < 0,lst))\n",
    "print(\"Các phần tử âm trong list:\",list_filter)\n",
    "# - List các phần tử dương\n",
    "list_filter = list(filter(lambda x: x > 0,lst))\n",
    "print(\"Các phần tử dương trong list:\",list_filter)"
   ]
  }
 ],
 "metadata": {
  "kernelspec": {
   "display_name": "Python 3",
   "language": "python",
   "name": "python3"
  },
  "language_info": {
   "codemirror_mode": {
    "name": "ipython",
    "version": 3
   },
   "file_extension": ".py",
   "mimetype": "text/x-python",
   "name": "python",
   "nbconvert_exporter": "python",
   "pygments_lexer": "ipython3",
   "version": "3.8.3"
  }
 },
 "nbformat": 4,
 "nbformat_minor": 4
}
