{
 "cells": [
  {
   "cell_type": "code",
   "execution_count": 10,
   "metadata": {},
   "outputs": [
    {
     "name": "stdout",
     "output_type": "stream",
     "text": [
      "Nhập n: 345678\n",
      "Số lượng số chẵn: 3\n",
      "Số lượng số lẻ: 3\n"
     ]
    }
   ],
   "source": [
    "# 1. Viết chương trình đếm số chẵn, lẻ trong số nguyên dương n (1.5 điểm)\n",
    "# Cho nhập số nguyên dương n. Đếm số lượng chữ số chẵn, số chữ số lẻ có trong n.\n",
    "# Ví dụ: n=5084 in ra số lượng số lẻ=1, số lượng số chẵn=3\n",
    "try:\n",
    "    n = int(input(\"Nhập n: \"))\n",
    "    assert(n > 0),\"n phải là số dương\"\n",
    "    demChan = 0\n",
    "    demLe = 0\n",
    "    for i in str(n):\n",
    "        if int(i) % 2 == 0:\n",
    "            demChan += 1\n",
    "        else:\n",
    "            demLe += 1\n",
    "    print(\"Số lượng số chẵn:\",demChan)\n",
    "    print(\"Số lượng số lẻ:\",demLe)\n",
    "except ValueError:\n",
    "    print(\"Nhập một số nguyên\")\n",
    "except AssertionError as e:\n",
    "    print(e)"
   ]
  },
  {
   "cell_type": "code",
   "execution_count": 44,
   "metadata": {},
   "outputs": [
    {
     "name": "stdout",
     "output_type": "stream",
     "text": [
      "Nhập chiều dài hcn: 10\n",
      "Nhập chiều rộng hcn: 5\n",
      "* * * * * * * * * * \n",
      "*                 * \n",
      "*                 * \n",
      "*                 * \n",
      "* * * * * * * * * * \n"
     ]
    }
   ],
   "source": [
    "# 2. Nhập vào chiều dài, chiều rộng hình chữ nhật. In ra màn hình hình chữ nhật sao\n",
    "# rỗng. (2.5 điểm)\n",
    "try:\n",
    "    dai = int(input(\"Nhập chiều dài hcn: \"))\n",
    "    rong = int(input(\"Nhập chiều rộng hcn: \"))\n",
    "    assert(dai > 0 and rong > 0),\"Phải nhập số dương\"\n",
    "    for i in range(rong):\n",
    "        for j in range(dai):\n",
    "            if i == 0 or i == (rong - 1) or j == 0 or j == (dai - 1):\n",
    "                print(\"*\",end=\" \")\n",
    "            else:\n",
    "                print(\" \",end=\" \")\n",
    "        print()\n",
    "except ValueError:\n",
    "    print(\"Nhập số nguyên\")\n",
    "except AssertionError as e:\n",
    "    print(e)"
   ]
  },
  {
   "cell_type": "code",
   "execution_count": 32,
   "metadata": {},
   "outputs": [
    {
     "name": "stdout",
     "output_type": "stream",
     "text": [
      "Nhập vào listA: 2\n",
      "Bạn có muốn nhập tiếp không? (1:Có 0:Không)2\n",
      "Nhập vào listA: 4\n",
      "Bạn có muốn nhập tiếp không? (1:Có 0:Không)4\n",
      "Nhập vào listA: 6\n",
      "Bạn có muốn nhập tiếp không? (1:Có 0:Không)6\n",
      "Nhập vào listA: 1\n",
      "Bạn có muốn nhập tiếp không? (1:Có 0:Không)1\n",
      "Nhập vào listA: 4\n",
      "Bạn có muốn nhập tiếp không? (1:Có 0:Không)4\n",
      "Nhập vào listA: 8\n",
      "Bạn có muốn nhập tiếp không? (1:Có 0:Không)0\n",
      "Nhập vào listB: 3\n",
      "Bạn có muốn nhập tiếp không? (1:Có 0:Không)3\n",
      "Nhập vào listB: 5\n",
      "Bạn có muốn nhập tiếp không? (1:Có 0:Không)5\n",
      "Nhập vào listB: 7\n",
      "Bạn có muốn nhập tiếp không? (1:Có 0:Không)7\n",
      "Nhập vào listB: 4\n",
      "Bạn có muốn nhập tiếp không? (1:Có 0:Không)4\n",
      "Nhập vào listB: 8\n",
      "Bạn có muốn nhập tiếp không? (1:Có 0:Không)0\n",
      "listA = [2, 4, 6, 1, 4, 8]\n",
      "listB = [3, 5, 7, 4, 8]\n"
     ]
    }
   ],
   "source": [
    "# 3. Viết chương trình xử lý list: (2.5 điểm)\n",
    "# ▪ Yêu cầu : Viết chương trình xử lý list như sau\n",
    "# − Tạo ra listA, listB dùng để chứa các phần tử kiểu số.\n",
    "# − Cho phép người dùng lần lượt nhập các phần tử kiểu số cho 2 list cho đến khi không\n",
    "# muốn nhập nữa\n",
    "# − In 2 list vừa nhập.\n",
    "# ▪ Một số kết quả gợi ý :\n",
    "# − listA = [1, 1, 2, 3, 5, 8, 13, 21, 34, 55, 89]\n",
    "# − listB = [1, 2, 3, 4, 5, 6, 7, 8, 9, 10, 11, 12, 13]\n",
    "# − listAinB = [1, 1, 2, 3, 5, 8, 13]\n",
    "# − listBinA = [1, 2, 3, 5, 8]\n",
    "try:\n",
    "    i = True\n",
    "    listA = []\n",
    "    listB = []\n",
    "    while(i):\n",
    "        n = eval(input(\"Nhập vào listA: \"))\n",
    "        listA.append(n)\n",
    "        i = eval(input(\"Bạn có muốn nhập tiếp không? (1:Có 0:Không)\"))\n",
    "    i = True\n",
    "    while(i):\n",
    "        n = eval(input(\"Nhập vào listB: \"))\n",
    "        listB.append(n)\n",
    "        i = eval(input(\"Bạn có muốn nhập tiếp không? (1:Có 0:Không)\"))\n",
    "    print(\"listA =\",listA)\n",
    "    print(\"listB =\",listB)\n",
    "except NameError:\n",
    "    print(\"Nhập vào một số\")"
   ]
  },
  {
   "cell_type": "code",
   "execution_count": 38,
   "metadata": {},
   "outputs": [
    {
     "name": "stdout",
     "output_type": "stream",
     "text": [
      "listAinB = [4, 4, 8]\n",
      "listBinA = [4, 8]\n"
     ]
    }
   ],
   "source": [
    "# − Tạo ra listAinB gồm những phần tử listA có trong listB.\n",
    "listAinB = []\n",
    "for i in listA:\n",
    "    if i in listB:\n",
    "        listAinB.append(i)\n",
    "print(\"listAinB =\",listAinB)\n",
    "# − Tạo ra listBinA gồm những phần tử listB có trong listA.\n",
    "listBinA = []\n",
    "for i in listB:\n",
    "    if i in listA:\n",
    "        listBinA.append(i)\n",
    "print(\"listBinA =\",listBinA)"
   ]
  },
  {
   "cell_type": "code",
   "execution_count": 51,
   "metadata": {},
   "outputs": [],
   "source": [
    "# 4. Quản lý thông tin sinh viên(2.5đ)\n",
    "# ▪ Yêu cầu: Viết chương trình thực hiện việc quản lý thông tin sinh viên như sau:\n",
    "# − Tạo một danh sách sinh viên kiểu dictionary để lưu trữ thông tin các thông tin với key\n",
    "# là mã sinh viên, value bao gồm các thông tin : tên sinh viên, năm sinh, điểm số.\n",
    "# Chương trình thực hiện các công việc sau:\n",
    "dic = {'SV01':['A',2000,8], 'SV02':['B',2001,7], 'SV03':['C',2002,9]}"
   ]
  },
  {
   "cell_type": "code",
   "execution_count": 53,
   "metadata": {},
   "outputs": [
    {
     "name": "stdout",
     "output_type": "stream",
     "text": [
      "Nhập thông tin sinh viên:\n",
      "Nhập mã sinh viên: SV04\n",
      "Nhập tên sinh viên: D\n",
      "Nhập năm sinh: 1999\n",
      "Nhập điểm: 7.5\n",
      "Bạn có muốn nhập tiếp không? (1:Có 0:Không)0\n",
      "{'SV01': ['A', 2000, 8], 'SV02': ['B', 2001, 7], 'SV03': ['C', 2002, 9], 'SV04': ['D', 1999, 7.5]}\n"
     ]
    }
   ],
   "source": [
    "# − Nhập thêm sinh viên mới. Cho phép người dùng lần lượt nhập các phần tử cho danh sách\n",
    "# cho đến khi không muốn nhập nữa\n",
    "print(\"Nhập thông tin sinh viên:\")\n",
    "lst = []\n",
    "try:\n",
    "    i= True\n",
    "    while i:\n",
    "        maSV = input(\"Nhập mã sinh viên: \")\n",
    "        tenSV = input(\"Nhập tên sinh viên: \")\n",
    "        lst.append(tenSV)\n",
    "        namSinh = int(input(\"Nhập năm sinh: \"))\n",
    "        assert(namSinh > 1900),\"Năm sinh phải từ 1970\"\n",
    "        lst.append(namSinh)\n",
    "        diem = eval(input(\"Nhập điểm: \"))\n",
    "        assert(0 <= diem <= 10),\"Điểm phải từ 1-10\"\n",
    "        lst.append(diem)\n",
    "        dic_add = {maSV:lst}\n",
    "        dic.update(dic_add)\n",
    "        i = eval(input(\"Bạn có muốn nhập tiếp không? (1:Có 0:Không)\"))\n",
    "    print(dic)\n",
    "except ValueError:\n",
    "    print(\"Năm sinh phải là một số\")\n",
    "except NameError:\n",
    "    print(\"Điểm phải là một số\")\n",
    "except AssertionError as e:\n",
    "    print(e)"
   ]
  },
  {
   "cell_type": "code",
   "execution_count": 106,
   "metadata": {},
   "outputs": [
    {
     "name": "stdout",
     "output_type": "stream",
     "text": [
      "*****************************************************Danh sách sinh viên*****************************************************\n",
      "Mã sv\t\t\t\tHọ tên\t\t\t\tNăm sinh\t\t\tĐiểm\n",
      "SV01\t\t\t\tA\t\t\t\t2000\t\t\t\t8\t\t\t\t\n",
      "SV02\t\t\t\tB\t\t\t\t2001\t\t\t\t7\t\t\t\t\n",
      "SV03\t\t\t\tC\t\t\t\t2002\t\t\t\t9\t\t\t\t\n",
      "SV04\t\t\t\tD\t\t\t\t1999\t\t\t\t7.5\t\t\t\t\n"
     ]
    }
   ],
   "source": [
    "# − In danh sách sinh viên\n",
    "tab = \"\\t\\t\\t\\t\"\n",
    "print(\"Danh sách sinh viên\".center(125,'*'))\n",
    "print(f\"Mã sv{tab}Họ tên{tab}Năm sinh\\t\\t\\tĐiểm\")\n",
    "for key,value in dic.items():\n",
    "    print(key + tab + dic[key][0] + tab + str(dic[key][1]) + tab + str(dic[key][2]) + tab)"
   ]
  },
  {
   "cell_type": "code",
   "execution_count": 81,
   "metadata": {},
   "outputs": [
    {
     "name": "stdout",
     "output_type": "stream",
     "text": [
      "Nhập mã sinh viên cần tìm: SV02\n",
      "['B', 2001, 7]\n",
      "Bạn có muốn tìm tiếp không? (1:Có 0:Không)1\n",
      "Nhập mã sinh viên cần tìm: SV03\n",
      "['C', 2002, 9]\n",
      "Bạn có muốn tìm tiếp không? (1:Có 0:Không)0\n"
     ]
    }
   ],
   "source": [
    "# − Cho phép người dùng tim kiếm theo mã sinh viên.\n",
    "i = True\n",
    "while i:\n",
    "    code = input(\"Nhập mã sinh viên cần tìm: \")\n",
    "    for n in dic.keys():\n",
    "        if n == code:\n",
    "            print(dic.get(n))\n",
    "            break\n",
    "    else:\n",
    "        print(f\"Không tìm thấy mã {code}\")\n",
    "    i = eval(input(\"Bạn có muốn tìm tiếp không? (1:Có 0:Không)\"))"
   ]
  },
  {
   "cell_type": "code",
   "execution_count": 17,
   "metadata": {},
   "outputs": [
    {
     "name": "stdout",
     "output_type": "stream",
     "text": [
      "Nhập chuỗi: Sai Gon\n",
      "Có 3 nguyên âm: a i o \n",
      "Có 3 phụ âm: S G n \n"
     ]
    }
   ],
   "source": [
    "# 5. Đếm nguyên âm và phụ âm trong chuỗi S: (1 điểm)\n",
    "# Đếm và in ra trong S có bao nhiêu nguyên âm (vowel - a,e,i,o,u) ký tự, bao nhiêu phụ âm\n",
    "# (consonant – b,c,d,e,f,g,h,j,k,l,m,n,p,q,r,s,t,v,w,x,y,z).\n",
    "# Lưu ý : khi đếm không phân biệt chữ hoa, chữ thường.\n",
    "# Ví dụ: S='Sai Gon'\n",
    "# Có 3 nguyên âm: a i o\n",
    "# Có 3 phụ âm: S G n\n",
    "lst = ['a','e','i','o','u','A','I','E','O','U']\n",
    "s = input(\"Nhập chuỗi: \")\n",
    "demNgAm = 0\n",
    "demPhAm = 0\n",
    "ngAm = ''\n",
    "phAm = ''\n",
    "for i in s:\n",
    "    if i in lst:\n",
    "        ngAm += f'{i} '\n",
    "        demNgAm += 1\n",
    "    elif i == ' ':\n",
    "        continue\n",
    "    else:\n",
    "        phAm += f'{i} '\n",
    "        demPhAm += 1\n",
    "print(f\"Có {demNgAm} nguyên âm: {ngAm}\")\n",
    "print(f\"Có {demPhAm} phụ âm: {phAm}\")"
   ]
  }
 ],
 "metadata": {
  "kernelspec": {
   "display_name": "Python 3",
   "language": "python",
   "name": "python3"
  },
  "language_info": {
   "codemirror_mode": {
    "name": "ipython",
    "version": 3
   },
   "file_extension": ".py",
   "mimetype": "text/x-python",
   "name": "python",
   "nbconvert_exporter": "python",
   "pygments_lexer": "ipython3",
   "version": "3.8.3"
  }
 },
 "nbformat": 4,
 "nbformat_minor": 4
}
