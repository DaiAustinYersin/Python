{
 "cells": [
  {
   "cell_type": "code",
   "execution_count": 2,
   "metadata": {},
   "outputs": [
    {
     "name": "stdout",
     "output_type": "stream",
     "text": [
      "                                                        Xử lý ngoại lệ                                                       \n"
     ]
    }
   ],
   "source": [
    "print(\"Xử lý ngoại lệ\".center(125,' '))"
   ]
  },
  {
   "cell_type": "code",
   "execution_count": 32,
   "metadata": {},
   "outputs": [
    {
     "name": "stdout",
     "output_type": "stream",
     "text": [
      "Nhap a: 1\n",
      "Nhap b: 0\n",
      "Error:  division by zero\n"
     ]
    }
   ],
   "source": [
    "try:\n",
    "    a = int(input(\"Nhap a: \"))\n",
    "    b = int(input(\"Nhap b: \"))\n",
    "    z = a/b\n",
    "except ZeroDivisionError as e:\n",
    "    print(\"Error: \", e)\n",
    "except NameError as e:\n",
    "    print(\"Error: \", e)\n",
    "except ValueError as e:\n",
    "    print(\"Error: \", e)\n",
    "else:\n",
    "    print(z)"
   ]
  },
  {
   "cell_type": "code",
   "execution_count": 46,
   "metadata": {},
   "outputs": [
    {
     "name": "stdout",
     "output_type": "stream",
     "text": [
      "Nhập x: -2\n",
      "Giá trị tuyệt đối của -2 là 2\n"
     ]
    }
   ],
   "source": [
    "# Bài tập 10.1: Tìm |x|\n",
    "# Học viên bổ sung xử lý ngoại lệ cho xử lý của bài tập Tìm giá trị tuyệt đối của một số.\n",
    "    \n",
    "try:\n",
    "    x = eval(input(\"Nhập x: \"))\n",
    "except NameError as e:\n",
    "    print(\"x must be a number\")\n",
    "else:\n",
    "    if x >= 0:\n",
    "        print(f\"Giá trị tuyệt đối của {x} là {x}\")\n",
    "    else:\n",
    "        print(f\"Giá trị tuyệt đối của {x} là {-x}\")\n",
    "# Ví dụ: input x = abc => lỗi ?"
   ]
  },
  {
   "cell_type": "code",
   "execution_count": 52,
   "metadata": {},
   "outputs": [
    {
     "name": "stdout",
     "output_type": "stream",
     "text": [
      "Nhập x: -2\n",
      "Nhập y: 3\n",
      "Error: math domain error\n"
     ]
    }
   ],
   "source": [
    "# Bài tập 10.2: Tính giá trị biểu thức\n",
    "# Xây dựng chương trình tính và in ra kết quả của biểu thức (Hình 10.1)\n",
    "# - Người dùng nhập x, y từ bàn phím.\n",
    "import math\n",
    "try:\n",
    "    x = eval(input(\"Nhập x: \"))\n",
    "    y = eval(input(\"Nhập y: \"))\n",
    "# - Chương trình sẽ tính và in ra kết quả của biểu thức A.\n",
    "except NameError as e:\n",
    "    print(\"x, y must be a number\")\n",
    "else:\n",
    "    try:\n",
    "        a1 = 5*x-y\n",
    "        a2 = 2*x+7*y\n",
    "        a = math.sqrt(a1/a2)\n",
    "    except ValueError as e:\n",
    "        print(\"Error:\",e)\n",
    "    else:\n",
    "        print(a)\n",
    "# Học viên bổ sung ngoại lệ cho phần xử lý"
   ]
  },
  {
   "cell_type": "code",
   "execution_count": 5,
   "metadata": {},
   "outputs": [
    {
     "name": "stdout",
     "output_type": "stream",
     "text": [
      "Nhập vào một số nguyên tố: -1\n",
      "Error: Nhập vào một số lớn hơn 0\n"
     ]
    }
   ],
   "source": [
    "# Bài tập 10.3: Kiểm tra số nguyên tố\n",
    "# Học viên bổ sung xử lý ngoại lệ cho xử lý của bài tập Kiểm tra số nguyên tố.\n",
    "# Ví dụ: Người dùng nhập vào chuỗi, hoặc số thực => lỗi ?\n",
    "def isPrime(n):\n",
    "    if n > 1:\n",
    "        for i in range(2,n+1):\n",
    "            if n % i == 0:\n",
    "                return False\n",
    "            return True\n",
    "        return False\n",
    "try:\n",
    "    n = int(input(\"Nhập vào một số nguyên tố: \"))\n",
    "    assert(n >= 0), \"Nhập vào một số lớn hơn 0\"\n",
    "    if(isPrime(n)):\n",
    "        print(f\"{n} là số nguyên tố\")\n",
    "    else:\n",
    "        print(f\"{n} không là số nguyên tố\")\n",
    "except ValueError as e:\n",
    "    print(\"Error: \" + 'Phải nhập vào một số nguyên')\n",
    "except AssertionError as e:\n",
    "    print(\"Error: \" + 'Nhập vào một số lớn hơn 0')"
   ]
  },
  {
   "cell_type": "code",
   "execution_count": 85,
   "metadata": {},
   "outputs": [
    {
     "name": "stdout",
     "output_type": "stream",
     "text": [
      "Nhập a: 0\n",
      "Nhập b: 2\n",
      "Phương trình vô nghiệm.\n"
     ]
    }
   ],
   "source": [
    "# Bài tập 10.4: Giải phương trình bậc 1\n",
    "# Học viên bổ sung xử lý ngoại lệ cho xử lý của bài tập Giải phương trình bậc 1.\n",
    "def giai_pt_bac_1(a, b):\n",
    "    if a != 0:\n",
    "        x = -b / a\n",
    "        print(\"Phương trình có 1 nghiệm x =\", x)\n",
    "    else:\n",
    "        if b == 0:\n",
    "            print(\"Phương trình có vô số nghiệm.\")\n",
    "        else:\n",
    "            print(\"Phương trình vô nghiệm.\")\n",
    "        \n",
    "try:        \n",
    "    a = eval(input(\"Nhập a: \"))\n",
    "    b = eval(input(\"Nhập b: \"))\n",
    "    giai_pt_bac_1(a, b)\n",
    "except NameError as e:\n",
    "    print(\"Error: a,b must be numbers\")\n",
    "\n",
    "# a = 0\n",
    "# b = abc\n",
    "# giai_pt_bac_1(a, b)\n"
   ]
  },
  {
   "cell_type": "code",
   "execution_count": 86,
   "metadata": {},
   "outputs": [
    {
     "name": "stdout",
     "output_type": "stream",
     "text": [
      "Giá trị là:  a\n",
      "Error: invalid literal for int() with base 10: 'a'\n",
      "Giá trị là:  0\n",
      "Error: division by zero\n",
      "Giá trị là:  2\n",
      "Kết quả phép toán của giá trị 2 là 0.5\n"
     ]
    }
   ],
   "source": [
    "# Bài tập 10.5: Xử lý ngoại lệ\n",
    "# Học viên bổ sung ngoại lệ cho phần xử lý bài toán sau:\n",
    "# - Cho một list, bao gồm cả số và ký tự\n",
    "import sys\n",
    "\n",
    "randomList = ['a', 0, 2]\n",
    "for value in randomList:\n",
    "    try:\n",
    "        print(\"Giá trị là: \", value)\n",
    "        r = 1/int(value)\n",
    "        break\n",
    "    except ValueError as e:\n",
    "        print(\"Error:\",e)\n",
    "    except ZeroDivisionError as e:\n",
    "        print(\"Error:\",e)\n",
    "print(\"Kết quả phép toán của giá trị\", value,\"là\", r)\n",
    "    \n",
    "# - Chương trình sẽ duyệt qua list cho đến khi tìm những số nguyên hợp lệ để thực hiện phép toán: r = 1/(int)(giá trị của list)\n",
    "\n",
    "# '''\n",
    "# Giá trị là:  a\n",
    "# Lỗi! <class 'ValueError'> xảy ra.\n",
    "# Giá trị tiếp theo\n",
    "\n",
    "# Giá trị là:  0\n",
    "# Lỗi! <class 'ZeroDivisionError'> xảy ra.\n",
    "# Giá trị tiếp theo\n",
    "\n",
    "# Giá trị là:  2\n",
    "# Kết quả phép toán của giá trị  2  là  0.5\n",
    "\n",
    "# '''"
   ]
  }
 ],
 "metadata": {
  "kernelspec": {
   "display_name": "Python 3",
   "language": "python",
   "name": "python3"
  },
  "language_info": {
   "codemirror_mode": {
    "name": "ipython",
    "version": 3
   },
   "file_extension": ".py",
   "mimetype": "text/x-python",
   "name": "python",
   "nbconvert_exporter": "python",
   "pygments_lexer": "ipython3",
   "version": "3.8.3"
  }
 },
 "nbformat": 4,
 "nbformat_minor": 4
}
