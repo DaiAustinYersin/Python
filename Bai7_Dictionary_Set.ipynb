{
 "cells": [
  {
   "cell_type": "code",
   "execution_count": 9,
   "metadata": {},
   "outputs": [
    {
     "name": "stdout",
     "output_type": "stream",
     "text": [
      "****************************Dictionary_Set****************************\n"
     ]
    }
   ],
   "source": [
    "print(\"Dictionary_Set\".center(70,'*'))"
   ]
  },
  {
   "cell_type": "code",
   "execution_count": 4,
   "metadata": {},
   "outputs": [
    {
     "name": "stdout",
     "output_type": "stream",
     "text": [
      "{1: 'python', 2: 'java', 3: 'c#', 4: 'c', 5: 'ruby'}\n"
     ]
    }
   ],
   "source": [
    "myDict = {1: 'python', 2: 'java', 3: 'c#', 4: 'c', 5: 'ruby'}\n",
    "print(myDict)"
   ]
  },
  {
   "cell_type": "code",
   "execution_count": 7,
   "metadata": {},
   "outputs": [
    {
     "name": "stdout",
     "output_type": "stream",
     "text": [
      "java\n"
     ]
    }
   ],
   "source": [
    "print(myDict[2])"
   ]
  },
  {
   "cell_type": "code",
   "execution_count": 8,
   "metadata": {},
   "outputs": [
    {
     "name": "stdout",
     "output_type": "stream",
     "text": [
      "{1: 'python', 2: 'java', 3: 'c#', 4: 'c'}\n"
     ]
    }
   ],
   "source": [
    "del myDict[5]\n",
    "print(myDict)"
   ]
  },
  {
   "cell_type": "code",
   "execution_count": null,
   "metadata": {},
   "outputs": [],
   "source": [
    "myDict.clear() #Xóa all các phần tử trong dict\n",
    "del myDict #Loại bỏ dict khỏi vùng nhớ"
   ]
  },
  {
   "cell_type": "code",
   "execution_count": 12,
   "metadata": {},
   "outputs": [
    {
     "ename": "KeyError",
     "evalue": "5",
     "output_type": "error",
     "traceback": [
      "\u001b[1;31m---------------------------------------------------------------------------\u001b[0m",
      "\u001b[1;31mKeyError\u001b[0m                                  Traceback (most recent call last)",
      "\u001b[1;32m<ipython-input-12-e58fb29f5519>\u001b[0m in \u001b[0;36m<module>\u001b[1;34m\u001b[0m\n\u001b[1;32m----> 1\u001b[1;33m \u001b[0mprint\u001b[0m\u001b[1;33m(\u001b[0m\u001b[0mmyDict\u001b[0m\u001b[1;33m[\u001b[0m\u001b[1;36m5\u001b[0m\u001b[1;33m]\u001b[0m\u001b[1;33m)\u001b[0m\u001b[1;33m\u001b[0m\u001b[1;33m\u001b[0m\u001b[0m\n\u001b[0m",
      "\u001b[1;31mKeyError\u001b[0m: 5"
     ]
    }
   ],
   "source": [
    "print(myDict[5])"
   ]
  },
  {
   "cell_type": "code",
   "execution_count": 11,
   "metadata": {},
   "outputs": [
    {
     "name": "stdout",
     "output_type": "stream",
     "text": [
      "None\n"
     ]
    }
   ],
   "source": [
    "print(myDict.get(5))"
   ]
  },
  {
   "cell_type": "code",
   "execution_count": 14,
   "metadata": {},
   "outputs": [
    {
     "name": "stdout",
     "output_type": "stream",
     "text": [
      "{1: 'python3', 2: 'java', 3: 'c#', 4: 'c', 0: 'python3'}\n"
     ]
    }
   ],
   "source": [
    "myDict[0] = 'python'\n",
    "myDict[1] = 'python3'\n",
    "print(myDict)"
   ]
  },
  {
   "cell_type": "code",
   "execution_count": 18,
   "metadata": {},
   "outputs": [
    {
     "name": "stdout",
     "output_type": "stream",
     "text": [
      "dict_keys([1, 2, 3, 4, 0])\n",
      "[1, 2, 3, 4, 0]\n"
     ]
    }
   ],
   "source": [
    "print(myDict.keys())\n",
    "print(list(myDict.keys()))"
   ]
  },
  {
   "cell_type": "code",
   "execution_count": 19,
   "metadata": {},
   "outputs": [
    {
     "name": "stdout",
     "output_type": "stream",
     "text": [
      "['python3', 'java', 'c#', 'c', 'python3']\n"
     ]
    }
   ],
   "source": [
    "print(list(myDict.values()))"
   ]
  },
  {
   "cell_type": "code",
   "execution_count": 20,
   "metadata": {},
   "outputs": [
    {
     "data": {
      "text/plain": [
       "dict_items([(1, 'python3'), (2, 'java'), (3, 'c#'), (4, 'c'), (0, 'python3')])"
      ]
     },
     "execution_count": 20,
     "metadata": {},
     "output_type": "execute_result"
    }
   ],
   "source": [
    "myDict.items()"
   ]
  },
  {
   "cell_type": "code",
   "execution_count": 21,
   "metadata": {},
   "outputs": [
    {
     "name": "stdout",
     "output_type": "stream",
     "text": [
      "1 - python3\n",
      "2 - java\n",
      "3 - c#\n",
      "4 - c\n",
      "0 - python3\n"
     ]
    }
   ],
   "source": [
    "for x in myDict.items():\n",
    "    print(x[0],'-',x[1])"
   ]
  },
  {
   "cell_type": "code",
   "execution_count": 22,
   "metadata": {},
   "outputs": [
    {
     "name": "stdout",
     "output_type": "stream",
     "text": [
      "1 - python3\n",
      "2 - java\n",
      "3 - c#\n",
      "4 - c\n",
      "0 - python3\n"
     ]
    }
   ],
   "source": [
    "for key,value in myDict.items():\n",
    "    print(key,'-',value)"
   ]
  },
  {
   "cell_type": "code",
   "execution_count": 40,
   "metadata": {},
   "outputs": [],
   "source": [
    "a = {1: 'a', 2: 'b', 3: 'c'}"
   ]
  },
  {
   "cell_type": "code",
   "execution_count": 46,
   "metadata": {},
   "outputs": [],
   "source": [
    "k = list(a.keys())"
   ]
  },
  {
   "cell_type": "code",
   "execution_count": 47,
   "metadata": {},
   "outputs": [],
   "source": [
    "i = list(a.values()).index('b')"
   ]
  },
  {
   "cell_type": "code",
   "execution_count": 48,
   "metadata": {},
   "outputs": [
    {
     "data": {
      "text/plain": [
       "2"
      ]
     },
     "execution_count": 48,
     "metadata": {},
     "output_type": "execute_result"
    }
   ],
   "source": [
    "k[i]"
   ]
  },
  {
   "cell_type": "code",
   "execution_count": 49,
   "metadata": {},
   "outputs": [
    {
     "data": {
      "text/plain": [
       "2"
      ]
     },
     "execution_count": 49,
     "metadata": {},
     "output_type": "execute_result"
    }
   ],
   "source": [
    "list(a.keys())[list(a.values()).index('b')]"
   ]
  },
  {
   "cell_type": "code",
   "execution_count": 54,
   "metadata": {},
   "outputs": [
    {
     "data": {
      "text/plain": [
       "{1: ['a', 'b'], 2: ['c', 'd'], 3: ['e', 'f']}"
      ]
     },
     "execution_count": 54,
     "metadata": {},
     "output_type": "execute_result"
    }
   ],
   "source": [
    "a = {1: ['a','b'], 2: ['c','d'], 3: ['e','f']}\n",
    "a"
   ]
  },
  {
   "cell_type": "code",
   "execution_count": 53,
   "metadata": {},
   "outputs": [
    {
     "data": {
      "text/plain": [
       "[['a', 'b'], ['c', 'd'], ['e', 'f']]"
      ]
     },
     "execution_count": 53,
     "metadata": {},
     "output_type": "execute_result"
    }
   ],
   "source": [
    "v = list(a.values())\n",
    "v"
   ]
  },
  {
   "cell_type": "code",
   "execution_count": 58,
   "metadata": {},
   "outputs": [
    {
     "data": {
      "text/plain": [
       "1"
      ]
     },
     "execution_count": 58,
     "metadata": {},
     "output_type": "execute_result"
    }
   ],
   "source": [
    "index = -1\n",
    "for i in range(len(v)):\n",
    "    if 'd' in v[i]:\n",
    "        index = i\n",
    "index"
   ]
  },
  {
   "cell_type": "code",
   "execution_count": 60,
   "metadata": {},
   "outputs": [
    {
     "name": "stdout",
     "output_type": "stream",
     "text": [
      "2\n"
     ]
    }
   ],
   "source": [
    "if index != -1:\n",
    "    print(list(a.keys())[index])\n",
    "else:\n",
    "    print(\"Ko có key tương ứng value\")"
   ]
  },
  {
   "cell_type": "code",
   "execution_count": 2,
   "metadata": {},
   "outputs": [
    {
     "name": "stdout",
     "output_type": "stream",
     "text": [
      "Nhập tên cần tìm: Jack\n",
      "Jack 0933753654\n",
      "Nhập tên: Austin\n",
      "Nhập sdt: 123\n",
      "Name: Johnny - Phone: 0989741258\n",
      "Name: Katherine - Phone: 0903852147\n",
      "Name: Misu - Phone: 0913753951\n",
      "Name: Jack - Phone: 0933753654\n",
      "Name: Austin - Phone: 123\n"
     ]
    }
   ],
   "source": [
    "# Bài tập 7.6: Danh bạ điện thoại\n",
    "# Viết chương trình thực hiện việc xử lý danh bạ điện thoại như sau:\n",
    "\n",
    "# - Tạo một danh bạ kiểu dictionary để lưu trữ danh bạ điện thoại với các cặp key-value (ví dụ như hình 7.8)\n",
    "myDirect = {'Johnny': '0989741258','Katherine': '0903852147','Misu': '0913753951','Jack': '0933753654'}\n",
    "# - Nhập tên cần tìm search_name\n",
    "search_name = input(\"Nhập tên cần tìm: \")\n",
    "# - Nhập tên, số điện thoại\n",
    "\n",
    "# => Chương trình sẽ thực hiện những công việc sau:\n",
    "# - Tìm search_name trong danh bạ. Nếu tìm thấy thì in thông tin tên – số điện thoại. Nếu không tìm thấy thì thông báo là không tìm thấy.\n",
    "\n",
    "if myDirect.get(search_name) == None:\n",
    "    print(\"Không tìm thấy\")\n",
    "else:\n",
    "    print(search_name + ' ' + myDirect.get(search_name))\n",
    "    \n",
    "# - Thêm một liên hệ mới với thông tin: tên – số điện thoại đã nhập\n",
    "name = input(\"Nhập tên: \")\n",
    "phoneNum = input(\"Nhập sdt: \")\n",
    "Direct_add = {name: phoneNum}\n",
    "myDirect.update(Direct_add)\n",
    "# - In danh bạ\n",
    "for key,value in myDirect.items():\n",
    "    print(f'Name: {key} - Phone: {value}')"
   ]
  },
  {
   "cell_type": "code",
   "execution_count": 2,
   "metadata": {},
   "outputs": [
    {
     "name": "stdout",
     "output_type": "stream",
     "text": [
      "Từ điển hiện tại có 7 từ\n",
      "Word: work - Meaning: ['công việc', 'việc làm', 'tác phẩm']\n",
      "Word: bark - Meaning: ['vỏ cây', 'tiếng sủa', 'thuyền ba cột buồm']\n",
      "Word: bat - Meaning: ['con dơi', 'gậy', 'đánh bóng']\n",
      "Word: board - Meaning: ['bảng', 'ban quản lý', 'lên tàu']\n",
      "Word: bowl - Meaning: ['cái bát', 'khán đài', 'quả bóng quần']\n",
      "Word: stamp - Meaning: ['con tem', 'phiếu mua hàng', 'con dấu']\n",
      "Word: club - Meaning: ['câu lạc bộ', 'gậy đánh golf', 'dùi cui']\n",
      "Word: take - Meaning: ['lấy', 'cầm', 'bắt']\n",
      "Nhập từ tiếng Anh: take\n",
      "Word: take - Meaning: ['lấy', 'cầm', 'bắt']\n",
      "Word: work - Meaning: ['công việc', 'việc làm', 'tác phẩm']\n",
      "Word: bark - Meaning: ['vỏ cây', 'tiếng sủa', 'thuyền ba cột buồm']\n",
      "Word: bat - Meaning: ['con dơi', 'gậy', 'đánh bóng']\n",
      "Word: board - Meaning: ['bảng', 'ban quản lý', 'lên tàu']\n",
      "Word: bowl - Meaning: ['cái bát', 'khán đài', 'quả bóng quần']\n",
      "Word: stamp - Meaning: ['con tem', 'phiếu mua hàng', 'con dấu']\n",
      "Word: club - Meaning: ['câu lạc bộ', 'gậy đánh golf', 'dùi cui']\n",
      "Word: take - Meaning: ['lấy', 'cầm', 'bắt']\n",
      "Nhập từ tiếng Việt: cầm\n",
      "take\n",
      "Nhập từ cần xóa: take\n",
      "Word: work - Meaning: ['công việc', 'việc làm', 'tác phẩm']\n",
      "Word: bark - Meaning: ['vỏ cây', 'tiếng sủa', 'thuyền ba cột buồm']\n",
      "Word: bat - Meaning: ['con dơi', 'gậy', 'đánh bóng']\n",
      "Word: board - Meaning: ['bảng', 'ban quản lý', 'lên tàu']\n",
      "Word: bowl - Meaning: ['cái bát', 'khán đài', 'quả bóng quần']\n",
      "Word: stamp - Meaning: ['con tem', 'phiếu mua hàng', 'con dấu']\n",
      "Word: club - Meaning: ['câu lạc bộ', 'gậy đánh golf', 'dùi cui']\n"
     ]
    }
   ],
   "source": [
    "# Bài tập 7.7: Từ điển\n",
    "# Viết chương trình thực hiện việc xử lý từ điển Anh – Việt như sau:\n",
    "\n",
    "# - Tạo một từ điển (key: từ tiếng Anh, value: list nhiều nghĩa Tiếng Việt)\n",
    "# ví dụ: check: tờ séc, hóa đơn, kiểm tra, chiếu cờ tướng\n",
    "dictionary = {'work': ['công việc', 'việc làm', 'tác phẩm'], 'bark': ['vỏ cây', 'tiếng sủa', 'thuyền ba cột buồm'], 'bat':['con dơi', 'gậy', 'đánh bóng'], 'board': ['bảng', 'ban quản lý', 'lên tàu'], 'bowl' : ['cái bát', 'khán đài', 'quả bóng quần'], 'stamp' : ['con tem', 'phiếu mua hàng', 'con dấu'], 'club' : ['câu lạc bộ', 'gậy đánh golf', 'dùi cui']}\n",
    "\n",
    "# => Chương trình sẽ thực hiện những công việc sau:\n",
    "# - Hiển thị từ điển, cho biết trong từ điển hiện tại có bao nhiêu từ\n",
    "print(f'Từ điển hiện tại có {len(dictionary)} từ')\n",
    "# - Thêm từ vào từ điển, và hiển thị từ điển sau khi thêm\n",
    "dictionary.update({'take': ['lấy', 'cầm', 'bắt']})\n",
    "for k,v in dictionary.items():\n",
    "    print(f'Word: {k} - Meaning: {v}')\n",
    "# - Tìm kiếm từ tiếng Anh => nếu tìm thấy thì hiển thị key và value. Nếu không tìm thấy thì thông báo không tìm thấy\n",
    "key = input(\"Nhập từ tiếng Anh: \")\n",
    "if dictionary.get(key) == None:\n",
    "    print(\"Không tìm thấy\")\n",
    "else:\n",
    "    print(f'Word: {key} - Meaning: {dictionary.get(key)}')\n",
    "for k,v in dictionary.items():\n",
    "    print(f'Word: {k} - Meaning: {v}')\n",
    "# - Tìm kiếm từ tiếng Viet=> nếu tìm thấy thì hiển thị key và value. Nếu không tìm thấy thì thông báo không tìm thấy\n",
    "s = input(\"Nhập từ tiếng Việt: \")\n",
    "v = list(dictionary.values())\n",
    "index = -1\n",
    "for i in range(len(v)):\n",
    "    if s in v[i]:\n",
    "        index = i\n",
    "if index != -1:\n",
    "    print(list(dictionary.keys())[index])\n",
    "# - Xóa một từ trong từ điển, dựa trên key cung cấp , và hiển thị từ điển sau khi xóa\n",
    "s = input(\"Nhập từ cần xóa: \")\n",
    "if dictionary.get(s) == None:\n",
    "    print(\"Không tìm thấy từ cần xóa\")\n",
    "else:\n",
    "    del dictionary[s]\n",
    "for k,v in dictionary.items():\n",
    "    print(f'Word: {k} - Meaning: {v}')"
   ]
  },
  {
   "cell_type": "code",
   "execution_count": 24,
   "metadata": {},
   "outputs": [
    {
     "name": "stdout",
     "output_type": "stream",
     "text": [
      "Nhập phần tử cho set1 (enter để kết thúc): 2\n",
      "Nhập phần tử cho set1 (enter để kết thúc): 4\n",
      "Nhập phần tử cho set1 (enter để kết thúc): 2\n",
      "Nhập phần tử cho set1 (enter để kết thúc): 5\n",
      "Nhập phần tử cho set1 (enter để kết thúc): 7\n",
      "Nhập phần tử cho set1 (enter để kết thúc): 9\n",
      "Nhập phần tử cho set1 (enter để kết thúc): 4\n",
      "Nhập phần tử cho set1 (enter để kết thúc): 6\n",
      "Nhập phần tử cho set1 (enter để kết thúc): 7\n",
      "Nhập phần tử cho set1 (enter để kết thúc): \n",
      "Nhập phần tử cho set2 (enter để kết thúc): 2\n",
      "Nhập phần tử cho set2 (enter để kết thúc): 3\n",
      "Nhập phần tử cho set2 (enter để kết thúc): 5\n",
      "Nhập phần tử cho set2 (enter để kết thúc): 7\n",
      "Nhập phần tử cho set2 (enter để kết thúc): 9\n",
      "Nhập phần tử cho set2 (enter để kết thúc): 5\n",
      "Nhập phần tử cho set2 (enter để kết thúc): 3\n",
      "Nhập phần tử cho set2 (enter để kết thúc): 6\n",
      "Nhập phần tử cho set2 (enter để kết thúc): \n",
      "set1: {2, 4, 5, 6, 7, 9}\n",
      "set2: {2, 3, 5, 6, 7, 9}\n"
     ]
    }
   ],
   "source": [
    "# Bài tập 7.8: Set numbers\n",
    "# Viết chương trình thực hiện việc xử lý trên set như sau:\n",
    "\n",
    "# - Khai báo và khởi tạo set1, set2\n",
    "set1 = set()\n",
    "set2 = set()\n",
    "# + Cho phép người dùng lần lượt nhập các phần tử số cho set1 cho đến khi không muốn nhập nữa\n",
    "i = '1'\n",
    "while i != '':\n",
    "    i = input(\"Nhập phần tử cho set1 (enter để kết thúc): \")\n",
    "    if i != '':\n",
    "        set1.add(int(i))\n",
    "\n",
    "# + Cho phép người dùng lần lượt nhập các phần tử số cho set2 cho đến khi không muốn nhập nữa\n",
    "i = '1'\n",
    "while i != '':\n",
    "    i = input(\"Nhập phần tử cho set2 (enter để kết thúc): \")\n",
    "    if i != '':\n",
    "        set2.add(int(i))\n",
    "\n",
    "# - Chương trình sẽ thực hiện những công việc sau:\n",
    "# + In set1, set2\n",
    "print(f'set1: {set1}\\nset2: {set2}')"
   ]
  },
  {
   "cell_type": "code",
   "execution_count": 30,
   "metadata": {},
   "outputs": [
    {
     "name": "stdout",
     "output_type": "stream",
     "text": [
      "set1 có 6 phần tử, tổng giá trị các phần tử là 33\n",
      "set1 có 6 phần tử, tổng giá trị các phần tử là 32\n",
      "Max của set1 là: 9\n",
      "Max của set2 là: 9\n",
      "Min của set1 là: 2\n",
      "Min của set2 là: 2\n",
      "Union: {2, 3, 4, 5, 6, 7, 9}\n",
      "Intersection: {2, 5, 6, 7, 9}\n",
      "Difference: {4}\n",
      "symmetric difference: {3, 4}\n",
      "set1 tăng dần: [2, 4, 5, 6, 7, 9]\n",
      "set2 giảm dần: [9, 7, 6, 5, 3, 2]\n"
     ]
    }
   ],
   "source": [
    "# + Cho biết mỗi set có bao nhiêu phần tử, tổng giá trị các phần tử của mỗi set\n",
    "tong1 = 0\n",
    "tong2 = 0\n",
    "for i in set1:\n",
    "    tong1 += i\n",
    "for i in set2:\n",
    "    tong2 += i\n",
    "print(f'set1 có {len(set1)} phần tử, tổng giá trị các phần tử là {tong1}')\n",
    "print(f'set1 có {len(set2)} phần tử, tổng giá trị các phần tử là {tong2}')\n",
    "# + Tìm giá trị lớn nhất, nhỏ nhất của mỗi set\n",
    "print(\"Max của set1 là:\",max(set1))\n",
    "print(\"Max của set2 là:\",max(set2))\n",
    "print(\"Min của set1 là:\",min(set1))\n",
    "print(\"Min của set2 là:\",min(set2))\n",
    "# + Lấy ra một phần tử ở set1 và in ra phần tử này\n",
    "# s = set1.pop()\n",
    "# print(s)\n",
    "# + Thực hiện set union của set1 và set2 và in kết quả\n",
    "print(\"Union:\", set1 | set2)\n",
    "# + Thực hiện set intersection của set1 và set2 và in kết quả\n",
    "print(\"Intersection:\", set1 & set2)\n",
    "# + Thực hiện set difference của set1 với set2 và in kết quả\n",
    "print(\"Difference:\", set1 - set2)\n",
    "# + Thực hiện set symmetric difference của set1 với set2 và in kết quả\n",
    "print(\"symmetric difference:\", set1 ^ set2)\n",
    "# + Sắp xếp set1 tăng dần và set2 giảm dần\n",
    "print(\"set1 tăng dần:\", sorted(set1))\n",
    "print(\"set2 giảm dần:\",sorted(set2, reverse=True))"
   ]
  },
  {
   "cell_type": "code",
   "execution_count": 36,
   "metadata": {},
   "outputs": [
    {
     "name": "stdout",
     "output_type": "stream",
     "text": [
      "Nhập chuỗi: hello world and practice makes perfect and hello world again\n",
      "['again', 'and', 'hello', 'makes', 'perfect', 'practice', 'world']\n"
     ]
    }
   ],
   "source": [
    "# Bài tập 7.9: Loại bỏ các từ trùng lặp trong chuỗi và sắp xếp theo thứ tự bảng chữ cái\n",
    "# Viết chương trình xử lý chuỗi với yêu cầu sau:\n",
    "# - Người dùng nhập vào một chuỗi các từ tách biệt bởi khoảng trắng (input)\n",
    "s = input(\"Nhập chuỗi: \")\n",
    "# - Chương trình xử lý chuỗi: loại bỏ các từ trùng lặp, sắp xếp theo thứ tự bảng chữ cái,\n",
    "# và in kết quả (output)\n",
    "words = set([word for word in s.split(' ')])\n",
    "print(sorted(words))\n",
    "# Ví dụ:\n",
    "# - input: hello world and practice makes perfect and hello world again\n",
    "# - output: again and hello makes perfect practice world"
   ]
  },
  {
   "cell_type": "code",
   "execution_count": 5,
   "metadata": {},
   "outputs": [
    {
     "name": "stdout",
     "output_type": "stream",
     "text": [
      "{'web': 'front-end', 'web1': 'back-end', 'web2': 'full-stack', 'ds': 'python', 'ds2': 'r', 'ds3': 'myqsl', 'java': 'spring', 'python': 'django', 'c#': '.net'}\n",
      "web2\n"
     ]
    }
   ],
   "source": [
    "# Bài tập 12.13: Tạo một dictionary từ nhiều dictionary\n",
    "# Viết chương trình với yêu cầu sau:\n",
    "# - Tạo 3 dictionary: dic1, dic2, dic3 có số lượng phần tử và giá trị key:vulue là giá trị số tùy ý\n",
    "dic1 = {'web': 'front-end','web1': 'back-end','web2': 'full-stack'}\n",
    "dic2 = {'ds': 'python','ds2': 'r','ds3': 'myqsl'}\n",
    "dic3 = {'java': 'spring','python': 'django','c#': '.net'}\n",
    "# - Hãy viết chương trình tạo một dictionary mới dic4 với các phần tử được lấy từ 3 dictionary trên.\n",
    "dic4 = {}\n",
    "dic4.update(dic1)\n",
    "dic4.update(dic2)\n",
    "dic4.update(dic3)\n",
    "print(dic4)\n",
    "# - Tìm phần tử có value lớn nhất/ nhỏ nhất trong dictionary\n",
    "print(max(dic4))"
   ]
  },
  {
   "cell_type": "code",
   "execution_count": 16,
   "metadata": {},
   "outputs": [
    {
     "name": "stdout",
     "output_type": "stream",
     "text": [
      "Nhập vào số nguyên dương: 9\n"
     ]
    },
    {
     "data": {
      "text/plain": [
       "{}"
      ]
     },
     "execution_count": 16,
     "metadata": {},
     "output_type": "execute_result"
    }
   ],
   "source": [
    "# Bài tập 12.14: Tạo dictionary với value là các số chính phương được tạo ra từ key\n",
    "# Viết chương trình:\n",
    "# - Cho phép người dùng nhập vào số nguyên dương n.\n",
    "n = int(input(\"Nhập vào số nguyên dương: \"))\n",
    "# - Chương trình sẽ tạo một dictionary có n phần tử, với mỗi phần tử có key là các giá trị lần lượt từ 1 đến n và \n",
    "#value = key * key\n",
    "lst = []\n",
    "lst1 = []\n",
    "dic = {}\n",
    "for i in range(1,n+1):\n",
    "    lst.append(i)\n",
    "dic.fromkeys(lst)\n",
    "for i in dic.values():\n",
    "    dic.values()[i] = i * i\n",
    "dic"
   ]
  }
 ],
 "metadata": {
  "kernelspec": {
   "display_name": "Python 3",
   "language": "python",
   "name": "python3"
  },
  "language_info": {
   "codemirror_mode": {
    "name": "ipython",
    "version": 3
   },
   "file_extension": ".py",
   "mimetype": "text/x-python",
   "name": "python",
   "nbconvert_exporter": "python",
   "pygments_lexer": "ipython3",
   "version": "3.8.3"
  }
 },
 "nbformat": 4,
 "nbformat_minor": 4
}
