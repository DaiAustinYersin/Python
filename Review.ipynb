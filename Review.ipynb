{
 "cells": [
  {
   "cell_type": "markdown",
   "metadata": {},
   "source": [
    "# Cấu trúc điều kiện"
   ]
  },
  {
   "cell_type": "code",
   "execution_count": 67,
   "metadata": {},
   "outputs": [
    {
     "data": {
      "text/plain": [
       "True"
      ]
     },
     "execution_count": 67,
     "metadata": {},
     "output_type": "execute_result"
    }
   ],
   "source": [
    "kq = (False,True)[4 % 2 == 0]\n",
    "kq"
   ]
  },
  {
   "cell_type": "code",
   "execution_count": 69,
   "metadata": {},
   "outputs": [
    {
     "data": {
      "text/plain": [
       "False"
      ]
     },
     "execution_count": 69,
     "metadata": {},
     "output_type": "execute_result"
    }
   ],
   "source": [
    "kq = True if 4 % 2 != 0 else False\n",
    "kq"
   ]
  },
  {
   "cell_type": "code",
   "execution_count": 32,
   "metadata": {},
   "outputs": [
    {
     "name": "stdout",
     "output_type": "stream",
     "text": [
      "Loại xe (4 hoặc 7): 4\n",
      "Số km: 0\n",
      "Lỗi: Số km phải là số dương\n"
     ]
    }
   ],
   "source": [
    "#Bài tập 4.3: Tính cước taxi\n",
    "# - Cước phí của xe 4 chỗ :\n",
    "# + Giá mở cửa 11.000 đồng/ 0.8 km\n",
    "# + Trong phạm vi 31km 15.300 đồng/km\n",
    "# + Từ km thứ 31 trở đi 12.100 đồng/km\n",
    "# - Cước phí của xe 7 chỗ :\n",
    "# + Giá mở cửa 12.000 đồng/ 0.8 km\n",
    "# + Trong phạm vi 31km 16.100 đồng/km\n",
    "# + Từ km thứ 31 trở đi 13.800 đồng/km\n",
    "# Tiền chờ: 5 phút đầu miễn phí, từ phút thứ sáu trở đi là 750đ/phút\n",
    "# Yêu cầu:\n",
    "# - Người dùng nhập vào loại xe (4 hoặc 7), số km di chuyển và thời gian chờ (Input)\n",
    "# - Chương trình sẽ tính: Tiền chờ, Tiền di chuyển, Tiền cước (Tiền cước = Tiền chờ + Tiền di chuyển)\n",
    "# và in ra kết quả (Output).\n",
    "try:\n",
    "    loaiXe = int(input(\"Loại xe (4 hoặc 7): \"))\n",
    "    assert(loaiXe == 4 or loaiXe == 7),\"Chỉ có loại xe 4 và 7\"\n",
    "    km = eval(input(\"Số km: \"))\n",
    "    assert(km > 0),\"Số km phải là số dương\"\n",
    "    waitTime  = eval(input(\"Thời gian chờ (phút): \"))\n",
    "    assert(waitTime > 0),\"Thời gian chờ phải dương\"\n",
    "    \n",
    "    giaMoCua4 = 11000\n",
    "    gia4_30 = 15300\n",
    "    gia4_31 = 12100\n",
    "    giaMoCua7 = 12000\n",
    "    gia7_30 = 16100\n",
    "    gia7_31 = 13800\n",
    "    \n",
    "    tienDiChuyen = 0\n",
    "    \n",
    "    if 0 < waitTime <= 5:\n",
    "        tienCho = 0\n",
    "    else:\n",
    "        tienCho = (waitTime - 5) * 750\n",
    "    \n",
    "    if loaiXe == 4:\n",
    "        if 0 < km <= 0.8:\n",
    "            tienDiChuyen = giaMoCua4\n",
    "        elif km <= 30:\n",
    "            tienDiChuyen = giaMoCua4 + (km - 0.8) * gia4_30\n",
    "        else:\n",
    "            tienDiChuyen = giaMoCua4 + (30 - 0.8) * gia4_30 + (km - 30) * gia4_31\n",
    "            \n",
    "    if loaiXe == 7:\n",
    "        if 0 < km <= 0.8:\n",
    "            tienDiChuyen = giaMoCua7\n",
    "        elif km <= 30:\n",
    "            tienDiChuyen = giaMoCua7 + (km - 0.8) * gia7_30\n",
    "        else:\n",
    "            tienDiChuyen = giaMoCua7 + (30 - 0.8) * gia7_30 + (km - 30) * gia7_31\n",
    "            \n",
    "    tienCuoc = tienCho + tienDiChuyen\n",
    "    \n",
    "    print(f'Tiền chờ = {tienCho}')\n",
    "    print(f'Tiền di chuyển = {tienDiChuyen}')\n",
    "    print(f'Tiền cước = {tienCho} + {tienDiChuyen} = {tienCuoc}')\n",
    "except ValueError:\n",
    "    print(\"Nhập vào số nguyên\")\n",
    "except NameError:\n",
    "    print(\"Nhập vào một số\")\n",
    "except AssertionError as e:\n",
    "    print(\"Lỗi:\", e)"
   ]
  },
  {
   "cell_type": "code",
   "execution_count": 35,
   "metadata": {},
   "outputs": [
    {
     "name": "stdout",
     "output_type": "stream",
     "text": [
      "Số Kwh tiêu thụ: 300\n",
      "Tiền điện phải trả: 712300\n"
     ]
    }
   ],
   "source": [
    "# Bài tập 4.4: Tính tiền điện\n",
    "# Học viên viết chương trình tính tiền điện theo biểu giá điện sinh họat dành cho hộ gia đình.\n",
    "# Input:\n",
    "# - Số Kwh tiêu thụ\n",
    "\n",
    "# Output:\n",
    "# - Tổng số tiền điện phải trả\n",
    "# Học viên tham khảo bảng giá điện theo quy định như Hình 4.4 (cập nhật Tháng 10/2019)\n",
    "\n",
    "bac1 = 1678\n",
    "bac2 = 1734\n",
    "bac3 = 2014\n",
    "bac4 = 2536\n",
    "bac5 = 2834\n",
    "bac6 = 2927\n",
    "\n",
    "tienDien = 0\n",
    "\n",
    "try:\n",
    "    kwh = eval(input(\"Số Kwh tiêu thụ: \"))\n",
    "    assert(kwh > 0),\"Số Kwh phải là số dương\"\n",
    "    if 0 <= kwh <= 50:\n",
    "        tienDien = kwh * bac1\n",
    "    elif 50 < kwh <= 100:\n",
    "        tienDien = 50 * bac1 + (kwh - 50) * bac2\n",
    "    elif 100 < kwh <= 200:\n",
    "        tienDien = 50 * bac1 + 100 * bac2 + (kwh - 100) * bac3\n",
    "    elif 200 < kwh <= 300:\n",
    "        tienDien = 50 * bac1 + 100 * bac2 + 100 * bac3 + (kwh - 200) * bac4\n",
    "    elif 300 < kwh <= 400:\n",
    "        tienDien = 50 * bac1 + 100 * bac2 + 100 * bac3 + 100 * bac4 + (kwh - 300) * bac5\n",
    "    else:\n",
    "        tienDien = 50 * bac1 + 100 * bac2 + 100 * bac3 + 100 * bac4 + 100 * bac5 + (kwh - 400) * bac6\n",
    "    print(\"Tiền điện phải trả:\",tienDien)\n",
    "except NameError:\n",
    "    print(\"Nhập vào một số\")\n",
    "except AssertionError as e:\n",
    "    print(\"Lỗi:\",e)"
   ]
  },
  {
   "cell_type": "code",
   "execution_count": 41,
   "metadata": {},
   "outputs": [
    {
     "name": "stdout",
     "output_type": "stream",
     "text": [
      "Loại phòng: 6\n",
      "Số đêm: 4\n",
      "Thành tiền: 5936000.0\n"
     ]
    }
   ],
   "source": [
    "# Bài tập 4.5: Tính tiền thuê phòng của resort\n",
    "# Học viên viết chương trình tính tiền thuê phòng của resort với thông tin đơn giá phòng và cách tính giá ưu đãi \n",
    "# khi ở nhiều ngày trong file đính kèm.\n",
    "# Người dùng sẽ nhập vào Loại phòng và số đêm ở (Input), chương trình sẽ tính và cho biết Tổng tiền phải thanh toán (Output).\n",
    "try:\n",
    "    loaiPhong = int(input(\"Loại phòng: \"))\n",
    "    assert(loaiPhong in [x for x in range(1,9)]),\"Loại phòng phải từ 1-8\"\n",
    "    soDem = int(input(\"Số đêm: \"))\n",
    "    assert(soDem > 0),\"Số đêm phải là số dương\"\n",
    "    \n",
    "    gia1 = 1260000\n",
    "    gia2 = 1550000\n",
    "    gia3 = 1830000\n",
    "    gia4 = 1830000\n",
    "    gia5 = 2120000\n",
    "    gia6 = 2120000\n",
    "    gia7 = 2540000\n",
    "    gia8 = 4800000\n",
    "    \n",
    "    tien = 0\n",
    "    \n",
    "    if loaiPhong == 1:\n",
    "        tien = gia1\n",
    "    elif loaiPhong == 2:\n",
    "        tien = gia2\n",
    "    elif loaiPhong == 3:\n",
    "        tien = gia3\n",
    "    elif loaiPhong == 4:\n",
    "        tien = gia4\n",
    "    elif loaiPhong == 5:\n",
    "        tien = gia5\n",
    "    elif loaiPhong == 6:\n",
    "        tien = gia6\n",
    "    elif loaiPhong == 7:\n",
    "        tien = gia7\n",
    "    else:\n",
    "        tien = gia8\n",
    "    \n",
    "    if soDem == 2 or soDem == 3:\n",
    "        tien = tien * soDem * 0.75\n",
    "    else:\n",
    "        tien = tien * soDem * 0.7\n",
    "    \n",
    "    print(\"Thành tiền:\",tien)\n",
    "except ValueError:\n",
    "    print(\"Loại phòng phải là một số dương\")\n",
    "except AssertionError as e:\n",
    "    print(\"Lỗi:\",e)"
   ]
  },
  {
   "cell_type": "code",
   "execution_count": 51,
   "metadata": {},
   "outputs": [
    {
     "name": "stdout",
     "output_type": "stream",
     "text": [
      "ĐTB: 5\n",
      "Trung Bình\n"
     ]
    }
   ],
   "source": [
    "# Bài tập 4.6 - Tính xếp loại học sinh\n",
    "# Hãy viết chương trình để tính xếp loại dựa trên điểm trung bình của Học sinh (sử dụng cấu trúc elif ... else)\n",
    "# Quy ước xếp loại như sau:\n",
    "# - ĐTB từ 8.0 trở lên - xếp loại \"Giỏi\"\n",
    "# - ĐTB từ 6.5 trở lên - xếp loại \"Khá\"\n",
    "# - ĐTB từ 5.0 trở lên - xếp loại \"Trung Bình\"\n",
    "# - ĐTB từ 3.5 trở lên - xếp loại \"Yếu\"\n",
    "# - ĐTB từ 0.0 trở lên - xếp loại \"Yếu\"\n",
    "\n",
    "try:\n",
    "    score = eval(input(\"ĐTB: \"))\n",
    "    assert(0 <= score <= 10),\"ĐTB phải là số từ 0-10\"\n",
    "    \n",
    "    if score >= 8:\n",
    "        xepLoai = \"Giỏi\"\n",
    "    elif score >= 6.5:\n",
    "        xepLoai = \"Khá\"\n",
    "    elif score >= 5:\n",
    "        xepLoai = \"Trung Bình\"\n",
    "    else:\n",
    "        xepLoai = \"Yếu\"\n",
    "        \n",
    "    print(xepLoai)\n",
    "except NameError:\n",
    "    print(\"ĐTB phải là một số\")\n",
    "except AssertionError as e:\n",
    "    print(\"Lỗi:\",e)"
   ]
  },
  {
   "cell_type": "markdown",
   "metadata": {},
   "source": [
    "# Cấu trúc lặp"
   ]
  },
  {
   "cell_type": "code",
   "execution_count": 21,
   "metadata": {},
   "outputs": [
    {
     "name": "stdout",
     "output_type": "stream",
     "text": [
      "Nhập vào một số nguyên dương: 377\n",
      "377 không là số nguyên tố\n"
     ]
    }
   ],
   "source": [
    "# Bài tập 5.2: Kiểm tra số nguyên tố\n",
    "# Học viên viết chương trình kiểm tra số nguyên tố với yêu cầu sau:\n",
    "# - Người dùng nhập vào một số x (Input),\n",
    "# - Chương trình sẽ kiểm tra xem x có phải là số nguyên tố hay không?\n",
    "# và in ra kết quả (Là số nguyên tố/ Không là số nguyên tố) (Output).\n",
    "# Lưu ý: Số nguyên tố là số chỉ chia hết cho 1 và chính nó.\n",
    "\n",
    "try:\n",
    "    n = int(input(\"Nhập vào một số nguyên dương: \"))\n",
    "    assert(n>0),\"Phải nhập vào một số nguyên dương\"\n",
    "    if n > 1:\n",
    "        for i in range(2,n):\n",
    "            if n % i == 0:\n",
    "                print(n,\"không là số nguyên tố\")\n",
    "                break\n",
    "        else:\n",
    "            print(n,\"là số nguyên tố\")\n",
    "    else:\n",
    "        print(n,\"không là số nguyên tố\")\n",
    "except AssertionError as e:\n",
    "    print(\"Lỗi:\",e)\n",
    "except ValueError:\n",
    "    print(\"Phải nhập vào một số\")"
   ]
  },
  {
   "cell_type": "code",
   "execution_count": 28,
   "metadata": {},
   "outputs": [
    {
     "name": "stdout",
     "output_type": "stream",
     "text": [
      "Nhập n: 10\n",
      "0 1 1 2 3 5 8 13 21 34 "
     ]
    }
   ],
   "source": [
    "# Bài tập 5.3: Dãy Fibonacci\n",
    "# Dãy Fibonacci là dãy vô hạn các số tự nhiên bắt đầu bằng hai phần tử 0 và 1, có quy luật khá đơn giản: “Phần tử đứng sau bằng tổng hai phần tử trước đó cộng lại”.\n",
    "# Dãy số Fibonacci có rất nhiều ứng dụng trong thực tế như : kiến trúc, nghệ thuật và phân tích kỹ thuật dự đoán xu hướng thị trường...\n",
    "# Trong bài tập này, Học viên sẽ lập trình xây dựng chương trình in ra n số đầu tiên trong dãy Fibonacci với yêu cầu sau:\n",
    "# - Người dùng nhập vào giá trị n (Input)\n",
    "# - Chương trình sẽ in ra dãy số Fibonacci đến n (Output)\n",
    "# Ví dụ:\n",
    "# Nhập n: 8\n",
    "# Dãy Fibonacci là: 0, 1, 1, 2, 3, 5, 8, 13\n",
    "\n",
    "try:\n",
    "    n = int(input(\"Nhập n: \"))\n",
    "    assert(n > 0),\"Nhập vào một số nguyên dương\"\n",
    "    n1 = 0\n",
    "    n2 = 1\n",
    "    n3 = 1\n",
    "    \n",
    "    print(n1,n2,end=\" \")\n",
    "    \n",
    "    for i in range(3,n+1):\n",
    "        n3 = n1 + n2\n",
    "        print(n3,end=\" \")\n",
    "        n1,n2 = n2,n3\n",
    "except ValueError:\n",
    "    print(\"Nhập vào một số\")\n",
    "except AssertionError as e:\n",
    "    print(e)"
   ]
  },
  {
   "cell_type": "code",
   "execution_count": 45,
   "metadata": {},
   "outputs": [
    {
     "name": "stdout",
     "output_type": "stream",
     "text": [
      "Nhập n: 10\n",
      "A = 1 + 3 + 5 + 7 + 9 = 25\n",
      "B = 2 + 4 + 6 + 8 + 10 = 30\n",
      "C = 1 + 2 + 3 + 4 + 5 + 6 + 7 + 8 + 9 + 10 = 56\n",
      "D = 3 + 6 + 9 = 19\n",
      "E = 2 + 3 + 5 + 7 = 17\n"
     ]
    }
   ],
   "source": [
    "# Bài tập 5.4: Tính giá trị biểu thức theo nhiều điều kiện\n",
    "# Viết chương trình tính và in ra kết quả của các biểu thức với kết quả như hình minh họa.\n",
    "# - Người dùng nhập vào một số nguyên n (Input)\n",
    "# - Chương trình sẽ tính các biểu thức sau đây:\n",
    "# A = tổng các số lẻ nhỏ hơn hay bằng n\n",
    "# B = tổng các số chẵn nhỏ hơn hay bằng n\n",
    "# C = tích các số từ 1 đến n\n",
    "# D = tích các số chia hết cho 3 nhỏ hơn hay bằng n\n",
    "# E = tổng các số nguyên tố nhỏ hơn hay bằng n\n",
    "# và in ra các kết quả của A, B, C, D, E.\n",
    "\n",
    "try:\n",
    "    n = int(input(\"Nhập n: \"))\n",
    "    assert(n > 0),\"Nhập vào một số nguyên dương\"\n",
    "    \n",
    "    A = 0\n",
    "    s = ''\n",
    "    for i in range(1,n+1):\n",
    "        if i % 2 != 0:\n",
    "            A += i\n",
    "            s += f'{i} + '\n",
    "    print(f'A = {s[0:-3]} = {A}')\n",
    "    \n",
    "    B = 0\n",
    "    s = ''\n",
    "    for i in range(1,n+1):\n",
    "        if i % 2 == 0:\n",
    "            B += i\n",
    "            s += f'{i} + '\n",
    "    print(f'B = {s[0:-3]} = {B}')\n",
    "    \n",
    "    C = 1\n",
    "    s = ''\n",
    "    for i in range(1,n+1):\n",
    "        C += i\n",
    "        s += f'{i} + '\n",
    "    print(f'C = {s[0:-3]} = {C}')\n",
    "    \n",
    "    D = 1\n",
    "    s = ''\n",
    "    for i in range(1,n+1):\n",
    "        if i % 3 == 0:\n",
    "            D += i\n",
    "            s += f'{i} + '\n",
    "    print(f'D = {s[0:-3]} = {D}')\n",
    "    \n",
    "    E = 0\n",
    "    s = ''\n",
    "    for i in range(1,n+1):\n",
    "        if i > 1:\n",
    "            for j in range(2,i):\n",
    "                if i % j == 0:\n",
    "                    break\n",
    "            else:\n",
    "                E += i\n",
    "                s += f'{i} + '\n",
    "    print(f\"E = {s[0:-3]} = {E}\")\n",
    "except ValueError:\n",
    "    print(\"Nhập vào một số\")\n",
    "except AssertionError as e:\n",
    "    print(e)"
   ]
  },
  {
   "cell_type": "code",
   "execution_count": 54,
   "metadata": {},
   "outputs": [
    {
     "name": "stdout",
     "output_type": "stream",
     "text": [
      "Nhập chuỗi: xin chào\n",
      "oàhc nix\n",
      "nix oàhc "
     ]
    }
   ],
   "source": [
    "# Bài tập 5.5: Chuỗi đảo ngược\n",
    "# Viết chương trình xử lý chuỗi với yêu cầu sau:\n",
    "# - Người dùng sẽ nhập vào một chuỗi gồm nhiều từ cách nhau bằng khoảng trắng (Input)\n",
    "# - Chương trình sẽ xuất ra chuỗi mà trong đó mỗi từ sẽ được đảo ngược (Output).\n",
    "# Ví dụ:\n",
    "# + Input: Hello Python\n",
    "# + Output: olleH nohtyP\n",
    "\n",
    "s = input(\"Nhập chuỗi: \")\n",
    "for i in range(len(s) - 1,-1,-1):\n",
    "    print(s[i],end=\"\")\n",
    "print()\n",
    "lst = s.split()\n",
    "for i in lst:\n",
    "    print(i[::-1],end=\" \")"
   ]
  },
  {
   "cell_type": "code",
   "execution_count": 58,
   "metadata": {},
   "outputs": [
    {
     "name": "stdout",
     "output_type": "stream",
     "text": [
      "Nhập chuỗi gồm ký tự và số: Happy Teacher Day 20-11\n",
      "Số chữ cái là: 15\n",
      "Số chữ số là: 4\n"
     ]
    }
   ],
   "source": [
    "# Bài tập 5.6: Đếm số chữ cái và chữ số trong chuỗi\n",
    "# Viết chương trình đếm số ký tự văn bản và số ký tự là số (0-9) trong chuỗi.\n",
    "# Yêu cầu:\n",
    "# - Người dùng nhập vào một chuỗi bao gồm ký tự và số (Input)\n",
    "# - Chương trình sẽ đếm số ký tự và số chữ số trong chuỗi, không tính khoảng trắng\n",
    "# và in ra kết quả (Output)\n",
    "# Ví dụ:\n",
    "# - input: Happy Teacher Day 20-11\n",
    "# - output:\n",
    "# + Số chữ cái là: 16\n",
    "# + Số chữ số là: 4\n",
    "# Học viên có thể mở rộng thêm: đếm số chữ cái, số chữ số và số ký tự đặc biệt.\n",
    "# P/s: Học viên có thể tham khảo thêm file đính kèm để hiểu thêm về bảng mã ASCII và \n",
    "# có thể sử dụng điều kiện so sánh trên mã ASCII của ký tự.\n",
    "s = input(\"Nhập chuỗi gồm ký tự và số: \")\n",
    "demChu = 0\n",
    "demSo = 0\n",
    "for i in s:\n",
    "    if (i >= 'a' and i <= 'z') or (i >= 'A' and i <= 'Z'):\n",
    "        demChu += 1\n",
    "    elif i >= '0' and i <= '9':\n",
    "        demSo += 1\n",
    "print(f\"Số chữ cái là: {demChu}\\nSố chữ số là: {demSo}\")"
   ]
  },
  {
   "cell_type": "code",
   "execution_count": 18,
   "metadata": {},
   "outputs": [
    {
     "name": "stdout",
     "output_type": "stream",
     "text": [
      "Nhập a: 0\n",
      "Nhập b: 2\n",
      "Nhập c: 4\n",
      "Phương trình trở thành phương trình bậc nhất\n",
      "Nghiệm của phương trình là: -2.0\n"
     ]
    }
   ],
   "source": [
    "# Bài tập 6.5: Giải phương trình bậc 2\n",
    "# Xây dựng chương trình giải phương trình bậc 2: ax^2 + bx + c = 0\n",
    "# - Người dùng nhập vào a, b, c (Input)\n",
    "# - Dựa vào quy tắc xử lý trong file đính kèm, chương trình sẽ giải phương trình bậc 2\n",
    "# và in ra nghiệm x1, x2 (Output)\n",
    "import math\n",
    "try:\n",
    "    a = eval(input(\"Nhập a: \"))\n",
    "    b = eval(input(\"Nhập b: \"))\n",
    "    c = eval(input(\"Nhập c: \"))\n",
    "    \n",
    "    if a == 0:\n",
    "        if b == 0:\n",
    "            if c == 0:\n",
    "                print(\"Phương trình có vô số nghiệm\")\n",
    "            else:\n",
    "                print(\"Phương trình vô nghiệm\")\n",
    "        else:\n",
    "            print(\"Phương trình trở thành phương trình bậc nhất\")\n",
    "            print(\"Nghiệm của phương trình là:\",(-c/b))\n",
    "    else:\n",
    "        delta = b**2-4*a*c\n",
    "        if delta > 0:\n",
    "            canDelta = math.sqrt(delta)\n",
    "            x1 = (-b + canDelta) / (2*a)\n",
    "            x2 = (-b - canDelta) / (2*a)\n",
    "            print(f\"Phương trình có 2 nghiệm phân biệt: x1 = {x1}; x2 = {x2}\")\n",
    "        elif delta == 0:\n",
    "            x = -b/(2*a)\n",
    "            print(f\"Phương trình có nghiệm chung x1 = x2 = {x}\")\n",
    "        else:\n",
    "            print(\"Phương trình vô nghiệm\")\n",
    "except NameError:\n",
    "    print(\"Nhập vào một số\")"
   ]
  },
  {
   "cell_type": "code",
   "execution_count": null,
   "metadata": {},
   "outputs": [],
   "source": []
  }
 ],
 "metadata": {
  "kernelspec": {
   "display_name": "Python 3",
   "language": "python",
   "name": "python3"
  },
  "language_info": {
   "codemirror_mode": {
    "name": "ipython",
    "version": 3
   },
   "file_extension": ".py",
   "mimetype": "text/x-python",
   "name": "python",
   "nbconvert_exporter": "python",
   "pygments_lexer": "ipython3",
   "version": "3.8.3"
  }
 },
 "nbformat": 4,
 "nbformat_minor": 4
}
